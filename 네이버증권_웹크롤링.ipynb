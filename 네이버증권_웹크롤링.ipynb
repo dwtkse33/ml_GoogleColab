{
  "nbformat": 4,
  "nbformat_minor": 0,
  "metadata": {
    "colab": {
      "name": "네이버증권_웹크롤링.ipynb",
      "provenance": [],
      "collapsed_sections": [],
      "authorship_tag": "ABX9TyOeDBrQD/7p8dbI/sFon18Y",
      "include_colab_link": true
    },
    "kernelspec": {
      "name": "python3",
      "display_name": "Python 3"
    }
  },
  "cells": [
    {
      "cell_type": "markdown",
      "metadata": {
        "id": "view-in-github",
        "colab_type": "text"
      },
      "source": [
        "<a href=\"https://colab.research.google.com/github/dwtkse33/ml_GoogleColab/blob/master/%EB%84%A4%EC%9D%B4%EB%B2%84%EC%A6%9D%EA%B6%8C_%EC%9B%B9%ED%81%AC%EB%A1%A4%EB%A7%81.ipynb\" target=\"_parent\"><img src=\"https://colab.research.google.com/assets/colab-badge.svg\" alt=\"Open In Colab\"/></a>"
      ]
    },
    {
      "cell_type": "code",
      "metadata": {
        "id": "OsVi03S0MXbD",
        "colab_type": "code",
        "colab": {}
      },
      "source": [
        "import pandas as pd \n",
        "import numpy as np"
      ],
      "execution_count": 1,
      "outputs": []
    },
    {
      "cell_type": "code",
      "metadata": {
        "id": "udiRtllLNR1d",
        "colab_type": "code",
        "colab": {}
      },
      "source": [
        "# import requests\n",
        "# from bs4 import BeautifulSoup as bs\n",
        "# import re\n",
        "# url = 'https://finance.naver.com/item/main.nhn?code=069960'\n",
        "# HYUNDAI = []\n",
        "# EMART = [] \n",
        "# GS_RETAIL = []\n",
        "# LOTTE = []\n",
        "# SHINSEGAE = []\n",
        "# resp = requests.get(url)\n",
        "# print(url)\n",
        "# soup = bs(resp.content, 'html.parser')\n",
        "# div_tag = soup.find('table', class_ = 'tb_type1 tb_num').find_all('tr')\n",
        "# for j in div_tag:\n",
        "#   try: \n",
        "#     name = j.find('table', class_ = 'tb_type1 tb_num').find('th').text\n",
        "#     if name == '현대백화점*069960':\n",
        "#        hyundai = detail_soup.find('table', class_ = 'tb_type1 tb_num').find('th')[0].text.strip()\n",
        "#        HYUNDAI.append(hyundai)\n",
        "#     elif name =='이마트*139480':\n",
        "#        emart = detail_soup.find('table', class_ = 'tb_type1 tb_num').find('th')[1].text.strip()\n",
        "#        EMART.append(emart)\n",
        "#     elif name == 'GS리테일*007070':\n",
        "#        gs = detail_soup.find('table', class_ = 'tb_type1 tb_num').find('th')[2].text.strip()\n",
        "#        GS_RETAIL.append(gs)\n",
        "#     elif name == '롯데쇼핑*023530':\n",
        "#          lotte = detail_soup.find('table', class_ = 'tb_type1 tb_num').find('th')[3].text.strip()\n",
        "#          LOTTE.append(lotte)\n",
        "#     elif name == '신세계*004170':\n",
        "#          shinse = detail_soup.find('table', class_ = 'tb_type1 tb_num').find('th')[4].text.strip()\n",
        "#          SHINSEGAE.append(shinse)\n",
        "#   except:\n",
        "#       pass\n",
        "# df = pd.DataFrame()\n",
        "# df['CATEGORY'] = [['현재가', '전일대비', '등락률', '시가총액(억)', '외국인취득률(%)', '매출액(억)', '영업이익(억)', '조정영업이익', '영업이익증가율(%)', '당기순이익(억)', '주당순이익(원)', 'ROE(%)', 'PER(배)', 'PBR(배)']]\n",
        "# df['HYUNDAI'] = HYUNDAI\n",
        "# df['EMART'] = EMART\n",
        "# df['GS_RETAIL'] = GS_RETAIL\n",
        "# df['LOTTE'] = LOTTE\n",
        "# df['SHINSEGAE'] = SHINSEGAE"
      ],
      "execution_count": 7,
      "outputs": []
    },
    {
      "cell_type": "markdown",
      "metadata": {
        "id": "nfVvFnTCbkjx",
        "colab_type": "text"
      },
      "source": [
        "# 답"
      ]
    },
    {
      "cell_type": "markdown",
      "metadata": {
        "id": "DDqVUND6b8UB",
        "colab_type": "text"
      },
      "source": [
        "* 일별로 가져오기 \n",
        "# 주가 정보 획득\n",
        "* 마케팅 포인트와 주가와의 상관관계 분석을 윟나 주가 획득 \n",
        "* 유통주 위주의 주가분석 \n",
        "* 현대백화점  https://finance.naver.com/item/sise_day.nhn?code=069960&page=1\n"
      ]
    },
    {
      "cell_type": "code",
      "metadata": {
        "id": "EoyD3_UEMlDL",
        "colab_type": "code",
        "colab": {}
      },
      "source": [
        ""
      ],
      "execution_count": 9,
      "outputs": []
    },
    {
      "cell_type": "code",
      "metadata": {
        "id": "9-wXj-L6MlGW",
        "colab_type": "code",
        "colab": {}
      },
      "source": [
        "import requests # 내부 source를 가져오는 라이브러리 \n",
        "from bs4 import BeautifulSoup as bs \n",
        "import numpy as np \n",
        "import pandas as pd "
      ],
      "execution_count": 10,
      "outputs": []
    },
    {
      "cell_type": "code",
      "metadata": {
        "id": "m8XbPUvWMlJU",
        "colab_type": "code",
        "colab": {}
      },
      "source": [
        "url = 'https://finance.naver.com/item/sise_day.nhn?code=069960&page=1'\n",
        "src = requests.get(url)"
      ],
      "execution_count": 12,
      "outputs": []
    },
    {
      "cell_type": "code",
      "metadata": {
        "id": "ZHYMf92NMlMW",
        "colab_type": "code",
        "colab": {
          "base_uri": "https://localhost:8080/",
          "height": 193
        },
        "outputId": "23173cc7-8441-4deb-8bc2-7cdf36094f3e"
      },
      "source": [
        "result = src.content.strip()\n",
        "html = bs(result, 'html.parser')\n",
        "tgts = html.select('table.type2 tr')\n",
        "# len(tgt)\n",
        "for tgt in tgts: \n",
        "  if(tgt.select('td .p10')):\n",
        "     sday = tgt.select('td .p10')[0].text.replace(\",\", \"\")\n",
        "     endp = tgt.select('td.num')[0].text.replace(\",\", \"\")\n",
        "     startp = tgt.select('td.num')[2].text.replace(\",\", \"\")\n",
        "     maxp = tgt.select('td.num')[3].text.replace(\",\", \"\")\n",
        "     minp = tgt.select('td.num')[4].text.replace(\",\", \"\")\n",
        "     vol = tgt.select('td.num')[5].text.replace(\",\", \"\")\n",
        "     print(sday, endp, startp, maxp, minp, vol)\n",
        "#종가 --> 전일비 --> 시가 --> 고가 --> 거래량"
      ],
      "execution_count": 31,
      "outputs": [
        {
          "output_type": "stream",
          "text": [
            "2020.09.15 56700 57500 58000 56600 107005\n",
            "2020.09.14 57200 57000 58400 56700 324102\n",
            "2020.09.11 56300 56400 57400 56200 269437\n",
            "2020.09.10 56400 56500 57200 55900 262036\n",
            "2020.09.09 56000 55900 56600 55400 125147\n",
            "2020.09.08 56400 56800 57100 56300 152605\n",
            "2020.09.07 56300 56100 57100 55600 174472\n",
            "2020.09.04 55800 55300 56200 55100 194702\n",
            "2020.09.03 56500 57000 58000 56500 287154\n",
            "2020.09.02 56500 56100 57800 55300 370906\n"
          ],
          "name": "stdout"
        }
      ]
    },
    {
      "cell_type": "code",
      "metadata": {
        "id": "wXzOnpaqMlQC",
        "colab_type": "code",
        "colab": {}
      },
      "source": [
        ""
      ],
      "execution_count": null,
      "outputs": []
    },
    {
      "cell_type": "code",
      "metadata": {
        "id": "wcISATU1djql",
        "colab_type": "code",
        "colab": {}
      },
      "source": [
        ""
      ],
      "execution_count": null,
      "outputs": []
    },
    {
      "cell_type": "code",
      "metadata": {
        "id": "DxsfVfsBdjwy",
        "colab_type": "code",
        "colab": {}
      },
      "source": [
        ""
      ],
      "execution_count": null,
      "outputs": []
    },
    {
      "cell_type": "code",
      "metadata": {
        "id": "-1h5osbbdj0Z",
        "colab_type": "code",
        "colab": {}
      },
      "source": [
        ""
      ],
      "execution_count": null,
      "outputs": []
    },
    {
      "cell_type": "code",
      "metadata": {
        "id": "KbI43t9cdj30",
        "colab_type": "code",
        "colab": {}
      },
      "source": [
        ""
      ],
      "execution_count": null,
      "outputs": []
    },
    {
      "cell_type": "code",
      "metadata": {
        "id": "CoSRuc0hdj8K",
        "colab_type": "code",
        "colab": {}
      },
      "source": [
        ""
      ],
      "execution_count": null,
      "outputs": []
    },
    {
      "cell_type": "markdown",
      "metadata": {
        "id": "ySSClmgksxYr",
        "colab_type": "text"
      },
      "source": [
        "<!-- index.html로 저장 -->\n",
        "<!-- hyper text markup language  : html의 기능은 text를 블록화하는 것임 -->\n",
        "<!-- 주석   시작태그 ~ 끝태그 document 블럭 형태로 구성되어 있음 like <html -->\n",
        "<!-- html은 보통 머릿말, 본문, 꼬릿말로 구성 -->\n",
        "\n",
        "\n",
        "<!doctype html>\n",
        "<html>\n",
        "    <head>\n",
        "    <!-- css는 design 만들수 있도록 해줌 -->\n",
        "    <style>\n",
        "        /* css주석, 태그선택자(아래 customize하는 코드 */\n",
        "    div{border: 1px solid grey;\n",
        "        margin: 5px; \n",
        "    }\n",
        "        /* 아이디 선택자 #(샵 사용), 특징: 아이디는 페이지내에 1개만 있음 */\n",
        "    #content{\n",
        "        background-color: yellow ;     \n",
        "    }\n",
        "    </style>\n",
        "    </head>\n",
        "    <body> \n",
        "        <div id=\"wrap\">\n",
        "            <div id= \"header\">\n",
        "            머릿말\n",
        "            </div>\n",
        "            <div id = \"content\">\n",
        "            본문\n",
        "            </div>\n",
        "            <div id = \"footer\">\n",
        "            꼬릿말\n",
        "            </div>\n",
        "        </div>\n",
        "    </body>\n",
        "</html>\n",
        "\n"
      ]
    },
    {
      "cell_type": "markdown",
      "metadata": {
        "id": "OOu1Zf2_s744",
        "colab_type": "text"
      },
      "source": [
        "# 위에 웹이 어떻게 구성되었는지 확인!!"
      ]
    },
    {
      "cell_type": "code",
      "metadata": {
        "id": "mMS5dl2vs7Xl",
        "colab_type": "code",
        "colab": {}
      },
      "source": [
        ""
      ],
      "execution_count": null,
      "outputs": []
    },
    {
      "cell_type": "code",
      "metadata": {
        "id": "bUUSE1icdjt3",
        "colab_type": "code",
        "colab": {}
      },
      "source": [
        ""
      ],
      "execution_count": null,
      "outputs": []
    },
    {
      "cell_type": "code",
      "metadata": {
        "id": "EvjEwLT9djns",
        "colab_type": "code",
        "colab": {}
      },
      "source": [
        ""
      ],
      "execution_count": null,
      "outputs": []
    }
  ]
}