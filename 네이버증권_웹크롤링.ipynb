{
  "nbformat": 4,
  "nbformat_minor": 0,
  "metadata": {
    "colab": {
      "name": "네이버증권_웹크롤링.ipynb",
      "provenance": [],
      "collapsed_sections": [],
      "authorship_tag": "ABX9TyPgcsOeKKDbMuhdI9j71fcV",
      "include_colab_link": true
    },
    "kernelspec": {
      "name": "python3",
      "display_name": "Python 3"
    }
  },
  "cells": [
    {
      "cell_type": "markdown",
      "metadata": {
        "id": "view-in-github",
        "colab_type": "text"
      },
      "source": [
        "<a href=\"https://colab.research.google.com/github/dwtkse33/ml_GoogleColab/blob/master/%EB%84%A4%EC%9D%B4%EB%B2%84%EC%A6%9D%EA%B6%8C_%EC%9B%B9%ED%81%AC%EB%A1%A4%EB%A7%81.ipynb\" target=\"_parent\"><img src=\"https://colab.research.google.com/assets/colab-badge.svg\" alt=\"Open In Colab\"/></a>"
      ]
    },
    {
      "cell_type": "code",
      "metadata": {
        "id": "OsVi03S0MXbD",
        "colab_type": "code",
        "colab": {}
      },
      "source": [
        "import pandas as pd \n",
        "import numpy as np"
      ],
      "execution_count": null,
      "outputs": []
    },
    {
      "cell_type": "code",
      "metadata": {
        "id": "udiRtllLNR1d",
        "colab_type": "code",
        "colab": {}
      },
      "source": [
        "# import requests\n",
        "# from bs4 import BeautifulSoup as bs\n",
        "# import re\n",
        "# url = 'https://finance.naver.com/item/main.nhn?code=069960'\n",
        "# HYUNDAI = []\n",
        "# EMART = [] \n",
        "# GS_RETAIL = []\n",
        "# LOTTE = []\n",
        "# SHINSEGAE = []\n",
        "# resp = requests.get(url)\n",
        "# print(url)\n",
        "# soup = bs(resp.content, 'html.parser')\n",
        "# div_tag = soup.find('table', class_ = 'tb_type1 tb_num').find_all('tr')\n",
        "# for j in div_tag:\n",
        "#   try: \n",
        "#     name = j.find('table', class_ = 'tb_type1 tb_num').find('th').text\n",
        "#     if name == '현대백화점*069960':\n",
        "#        hyundai = detail_soup.find('table', class_ = 'tb_type1 tb_num').find('th')[0].text.strip()\n",
        "#        HYUNDAI.append(hyundai)\n",
        "#     elif name =='이마트*139480':\n",
        "#        emart = detail_soup.find('table', class_ = 'tb_type1 tb_num').find('th')[1].text.strip()\n",
        "#        EMART.append(emart)\n",
        "#     elif name == 'GS리테일*007070':\n",
        "#        gs = detail_soup.find('table', class_ = 'tb_type1 tb_num').find('th')[2].text.strip()\n",
        "#        GS_RETAIL.append(gs)\n",
        "#     elif name == '롯데쇼핑*023530':\n",
        "#          lotte = detail_soup.find('table', class_ = 'tb_type1 tb_num').find('th')[3].text.strip()\n",
        "#          LOTTE.append(lotte)\n",
        "#     elif name == '신세계*004170':\n",
        "#          shinse = detail_soup.find('table', class_ = 'tb_type1 tb_num').find('th')[4].text.strip()\n",
        "#          SHINSEGAE.append(shinse)\n",
        "#   except:\n",
        "#       pass\n",
        "# df = pd.DataFrame()\n",
        "# df['CATEGORY'] = [['현재가', '전일대비', '등락률', '시가총액(억)', '외국인취득률(%)', '매출액(억)', '영업이익(억)', '조정영업이익', '영업이익증가율(%)', '당기순이익(억)', '주당순이익(원)', 'ROE(%)', 'PER(배)', 'PBR(배)']]\n",
        "# df['HYUNDAI'] = HYUNDAI\n",
        "# df['EMART'] = EMART\n",
        "# df['GS_RETAIL'] = GS_RETAIL\n",
        "# df['LOTTE'] = LOTTE\n",
        "# df['SHINSEGAE'] = SHINSEGAE"
      ],
      "execution_count": null,
      "outputs": []
    },
    {
      "cell_type": "markdown",
      "metadata": {
        "id": "nfVvFnTCbkjx",
        "colab_type": "text"
      },
      "source": [
        "# 답"
      ]
    },
    {
      "cell_type": "markdown",
      "metadata": {
        "id": "DDqVUND6b8UB",
        "colab_type": "text"
      },
      "source": [
        "* 일별로 가져오기 \n",
        "# 주가 정보 획득\n",
        "* 마케팅 포인트와 주가와의 상관관계 분석을 위한 주가 획득 \n",
        "* 유통주 위주의 주가분석 \n",
        "* 현대백화점  https://finance.naver.com/item/sise_day.nhn?code=069960&page=1\n"
      ]
    },
    {
      "cell_type": "code",
      "metadata": {
        "id": "9-wXj-L6MlGW",
        "colab_type": "code",
        "colab": {}
      },
      "source": [
        "import sqlite3\n",
        "import requests # 내부 source를 가져오는 라이브러리 \n",
        "from bs4 import BeautifulSoup as bs \n",
        "import numpy as np \n",
        "import pandas as pd "
      ],
      "execution_count": null,
      "outputs": []
    },
    {
      "cell_type": "code",
      "metadata": {
        "id": "m8XbPUvWMlJU",
        "colab_type": "code",
        "colab": {}
      },
      "source": [
        "url = 'https://finance.naver.com/item/sise_day.nhn?code=069960&page=1' #--> 일별시세 있는 페이지로 가기 --> 링크 뒤에다 &page=1 넣기\n",
        "src = requests.get(url) #만약에 1~30페이지를 모두 웹크롤링하고 싶으면 일일이 page=1, page=2, page=30 입력해야 함 "
      ],
      "execution_count": null,
      "outputs": []
    },
    {
      "cell_type": "code",
      "metadata": {
        "id": "ZHYMf92NMlMW",
        "colab_type": "code",
        "colab": {
          "base_uri": "https://localhost:8080/",
          "height": 193
        },
        "outputId": "0369ebd2-a67c-4ba8-ace9-7689c6a85a84"
      },
      "source": [
        "result = src.content.strip()\n",
        "html = bs(result, 'html.parser')\n",
        "tgts = html.select('table.type2 tr')\n",
        "# len(tgt)\n",
        "for tgt in tgts: \n",
        "  if(tgt.select('td .p10')):\n",
        "     sday = tgt.select('td .p10')[0].text.replace(\",\", \"\")\n",
        "     endp = tgt.select('td.num')[0].text.replace(\",\", \"\")\n",
        "     startp = tgt.select('td.num')[2].text.replace(\",\", \"\")\n",
        "     maxp = tgt.select('td.num')[3].text.replace(\",\", \"\")\n",
        "     minp = tgt.select('td.num')[4].text.replace(\",\", \"\")\n",
        "     vol = tgt.select('td.num')[5].text.replace(\",\", \"\")\n",
        "     print(sday, startp, maxp, minp, endp,  vol)\n",
        "#종가 --> 전일비 --> 시가 --> 고가 --> 거래량"
      ],
      "execution_count": null,
      "outputs": [
        {
          "output_type": "stream",
          "text": [
            "2020.09.15 57500 58000 56600 57600 208343\n",
            "2020.09.14 57000 58400 56700 57200 324102\n",
            "2020.09.11 56400 57400 56200 56300 269437\n",
            "2020.09.10 56500 57200 55900 56400 262036\n",
            "2020.09.09 55900 56600 55400 56000 125147\n",
            "2020.09.08 56800 57100 56300 56400 152605\n",
            "2020.09.07 56100 57100 55600 56300 174472\n",
            "2020.09.04 55300 56200 55100 55800 194702\n",
            "2020.09.03 57000 58000 56500 56500 287154\n",
            "2020.09.02 56100 57800 55300 56500 370906\n"
          ],
          "name": "stdout"
        }
      ]
    },
    {
      "cell_type": "markdown",
      "metadata": {
        "id": "kHtOatdLS1iI",
        "colab_type": "text"
      },
      "source": [
        "# 정의함수로 웹크롤링하기 "
      ]
    },
    {
      "cell_type": "code",
      "metadata": {
        "id": "EoyD3_UEMlDL",
        "colab_type": "code",
        "colab": {}
      },
      "source": [
        "def stockGet(url= ''):\n",
        "  src = requests.get(url)\n",
        "  result = src.content.strip()\n",
        "  html= bs(result, 'html.parser')\n",
        "  tgts = html.select('table.type2 tr')\n",
        "  # Len(tgt)\n",
        "  for tgt in tgts: \n",
        "     if(tgt.select('td .p10')):\n",
        "      sday = tgt.select('td .p10')[0].text.replace(\",\", \"\")\n",
        "      endp = tgt.select('td.num')[0].text.replace(\",\", \"\")\n",
        "      startp = tgt.select('td.num')[2].text.replace(\",\", \"\")\n",
        "      maxp = tgt.select('td.num')[3].text.replace(\",\", \"\")\n",
        "      minp = tgt.select('td.num')[4].text.replace(\",\", \"\")\n",
        "      vol = tgt.select('td.num')[5].text.replace(\",\", \"\")\n",
        "      print(sday, startp, maxp, minp, endp,  vol)\n",
        "  else: \n",
        "    pass\n",
        "#종가 --> 전일비 --> 시가 --> 고가 --> 거래량"
      ],
      "execution_count": null,
      "outputs": []
    },
    {
      "cell_type": "code",
      "metadata": {
        "id": "FraYjtQrLEUx",
        "colab_type": "code",
        "colab": {
          "base_uri": "https://localhost:8080/",
          "height": 228
        },
        "outputId": "78d1e5cf-8ab6-4bb3-f6f6-a32010c49c5b"
      },
      "source": [
        "urlsrc = 'https://finance.naver.com/item/sise_day.nhn?code=069960&page=1' \n",
        "for i in range(1, 2): \n",
        "  print(url)\n",
        "  print(\"#\"*30)\n",
        "  url = urlsrc.format(i)\n",
        "  stockGet(url)"
      ],
      "execution_count": null,
      "outputs": [
        {
          "output_type": "stream",
          "text": [
            "https://finance.naver.com/item/sise_day.nhn?code=069960&page=1\n",
            "##############################\n",
            "2020.09.15 57500 58000 56600 57600 208343\n",
            "2020.09.14 57000 58400 56700 57200 324102\n",
            "2020.09.11 56400 57400 56200 56300 269437\n",
            "2020.09.10 56500 57200 55900 56400 262036\n",
            "2020.09.09 55900 56600 55400 56000 125147\n",
            "2020.09.08 56800 57100 56300 56400 152605\n",
            "2020.09.07 56100 57100 55600 56300 174472\n",
            "2020.09.04 55300 56200 55100 55800 194702\n",
            "2020.09.03 57000 58000 56500 56500 287154\n",
            "2020.09.02 56100 57800 55300 56500 370906\n"
          ],
          "name": "stdout"
        }
      ]
    },
    {
      "cell_type": "markdown",
      "metadata": {
        "id": "dFE97GnqVQ0L",
        "colab_type": "text"
      },
      "source": [
        "# SQLITE(데이터베이스 생성기)와 웹크롤링 데이터 연결하는 방법"
      ]
    },
    {
      "cell_type": "code",
      "metadata": {
        "id": "qL39FU8qdX9h",
        "colab_type": "code",
        "colab": {
          "base_uri": "https://localhost:8080/",
          "height": 34
        },
        "outputId": "c4187da8-43e2-4180-d70c-dbb0425c2418"
      },
      "source": [
        "from google.colab import drive\n",
        "drive.mount('/content/gdrive')"
      ],
      "execution_count": null,
      "outputs": [
        {
          "output_type": "stream",
          "text": [
            "Mounted at /content/gdrive\n"
          ],
          "name": "stdout"
        }
      ]
    },
    {
      "cell_type": "code",
      "metadata": {
        "id": "HL_ulXnqdk3O",
        "colab_type": "code",
        "colab": {
          "base_uri": "https://localhost:8080/",
          "height": 35
        },
        "outputId": "f7dc9447-a4c4-4419-dd8b-9a2b5d0a5f5c"
      },
      "source": [
        "%pwd"
      ],
      "execution_count": 93,
      "outputs": [
        {
          "output_type": "execute_result",
          "data": {
            "application/vnd.google.colaboratory.intrinsic+json": {
              "type": "string"
            },
            "text/plain": [
              "'/content'"
            ]
          },
          "metadata": {
            "tags": []
          },
          "execution_count": 93
        }
      ]
    },
    {
      "cell_type": "code",
      "metadata": {
        "id": "K0A6dLQyeUMo",
        "colab_type": "code",
        "colab": {
          "base_uri": "https://localhost:8080/",
          "height": 34
        },
        "outputId": "9bc3943b-5dad-4291-9052-b2438a3a0ede"
      },
      "source": [
        "%ls"
      ],
      "execution_count": 94,
      "outputs": [
        {
          "output_type": "stream",
          "text": [
            "\u001b[0m\u001b[01;34mgdrive\u001b[0m/  NaverStock.db  \u001b[01;34msample_data\u001b[0m/\n"
          ],
          "name": "stdout"
        }
      ]
    },
    {
      "cell_type": "code",
      "metadata": {
        "id": "l67qapqLeaGh",
        "colab_type": "code",
        "colab": {
          "base_uri": "https://localhost:8080/",
          "height": 34
        },
        "outputId": "6b4d4368-bb4d-4b3a-f0c7-e2288916e03c"
      },
      "source": [
        "%cd gdrive/'My Drive'/'Colab Notebooks/ml_project'"
      ],
      "execution_count": 96,
      "outputs": [
        {
          "output_type": "stream",
          "text": [
            "/content/gdrive/My Drive/Colab Notebooks/ml_project\n"
          ],
          "name": "stdout"
        }
      ]
    },
    {
      "cell_type": "code",
      "metadata": {
        "id": "uesPX6t4aHRh",
        "colab_type": "code",
        "colab": {}
      },
      "source": [
        "def stockGet(url=''): \n",
        "  # url 가져와서 파싱 \n",
        "  src = requests.get(url)\n",
        "  result = src.content.strip()\n",
        "  html = bs(result, 'html.parser')\n",
        "  tgts = html.select('table.type2 tr')\n",
        "  \n",
        "  # Len(tgt)\n",
        "  res = []\n",
        "  # tgts가 10개씩 나옴, page 1에 해당 \n",
        "  for tgt in tgts: \n",
        "     if(tgt.select('td .p10')): # 날짜 없는 줄은 제거 \n",
        "      sday = tgt.select('td .p10')[0].text.replace(\",\", \"\")\n",
        "      endp = tgt.select('td.num')[0].text.replace(\",\", \"\")\n",
        "      startp = tgt.select('td.num')[2].text.replace(\",\", \"\")\n",
        "      maxp = tgt.select('td.num')[3].text.replace(\",\", \"\")\n",
        "      minp = tgt.select('td.num')[4].text.replace(\",\", \"\")\n",
        "      vol = tgt.select('td.num')[5].text.replace(\",\", \"\")\n",
        "      res.append((sday, startp, maxp, minp, endp,  vol))\n",
        "  # 10개 반환 \n",
        "  return res"
      ],
      "execution_count": 137,
      "outputs": []
    },
    {
      "cell_type": "code",
      "metadata": {
        "id": "uDnEd4aJh3J9",
        "colab_type": "code",
        "colab": {}
      },
      "source": [
        "def addData(whr = 'where SIDX=0'):\n",
        "  with sqlite3.connect(dbname) as conn:\n",
        "    cur = conn.cursor()\n",
        "  conn:\n",
        "    cur = conn.cursor()\n",
        "    sql = 'select SIDX from StockDay'\n",
        "    sql = 'insert into StockDay \\\n",
        "    (SIDX, SCODE, SCOMP, SDAY, OPENP, HIGHP, LOWP, CLOSEP, VOL) values (?,?,?,?,?,?,?,?,?)'\n",
        "    # data = [1001, 6000, '신세계', '20200830', 30, 60, 70, 50, 250]\n",
        "    # 실행하기 \n",
        "    cur.execute(sql, data)\n",
        "    # 변경사항 저장하기 \n",
        "    conn.commit()\n",
        "    cur.close"
      ],
      "execution_count": 145,
      "outputs": []
    },
    {
      "cell_type": "code",
      "metadata": {
        "id": "CoSRuc0hdj8K",
        "colab_type": "code",
        "colab": {}
      },
      "source": [
        "dfname = 'NaverStock.db'\n",
        "def selData(whr = 'where SIDX=0'):\n",
        "  with sqlite3.connect(dbname) as\n",
        "conn:\n",
        "  cur = conn.cursor()\n",
        "  sql = 'select SIDX from StockDay'\n",
        "def selData(whr = 'where SIDX = 0'): # 값 초기화함 \n",
        "  with sqlite3.connect(dbname) as conn:\n",
        "    cur = conn.cursor()\n",
        "    sql = 'select SIDX from StockDay ' + whr\n",
        "    result = cur.execute(sql)\n",
        "    rows = cur.fetchall()\n",
        "    cur.close()\n",
        "  return rows"
      ],
      "execution_count": 146,
      "outputs": []
    },
    {
      "cell_type": "code",
      "metadata": {
        "id": "3sfAMQWAaHUo",
        "colab_type": "code",
        "colab": {
          "base_uri": "https://localhost:8080/",
          "height": 380
        },
        "outputId": "cc6ec215-b514-4e60-abcd-7d7ecc996fc1"
      },
      "source": [
        "urlsrc = 'https://finance.naver.com/item/sise_day.nhn?code={0}&page={1}'\n",
        "sCode = '069960';\n",
        "sComp = '현대백화점'\n",
        "for i in range(1,100):\n",
        "  print(\"#\"*30)\n",
        "  url = urlsrc.format(sCode, i)\n",
        "  rs = stockGet(url)\n",
        "  # 데이터 100개 가져오기 \n",
        "\n",
        "  for r in rs:\n",
        "    # 데이터별 고유코드 만들기 \n",
        "    sidx = r[0] + sCode \n",
        "    #### data = [1001, 6000, '신세계', '20200830', 30, 60, 70, 50, 250]\n",
        "    data = [sidx, sCode, sComp, r[0], r[1], r[2], r[3], r[4], r[5]]\n",
        "    # 데이터 입력하기\n",
        "    preData = selData(' where SIDX ='+sidx)\n",
        "    if(preData):\n",
        "      print(\"중복데이터 입니다.\", preData) \n",
        "    else: \n",
        "      addData(data)"
      ],
      "execution_count": 147,
      "outputs": [
        {
          "output_type": "stream",
          "text": [
            "##############################\n"
          ],
          "name": "stdout"
        },
        {
          "output_type": "error",
          "ename": "OperationalError",
          "evalue": "ignored",
          "traceback": [
            "\u001b[0;31m---------------------------------------------------------------------------\u001b[0m",
            "\u001b[0;31mOperationalError\u001b[0m                          Traceback (most recent call last)",
            "\u001b[0;32m<ipython-input-147-afb90e7d0a99>\u001b[0m in \u001b[0;36m<module>\u001b[0;34m()\u001b[0m\n\u001b[1;32m     14\u001b[0m     \u001b[0mdata\u001b[0m \u001b[0;34m=\u001b[0m \u001b[0;34m[\u001b[0m\u001b[0msidx\u001b[0m\u001b[0;34m,\u001b[0m \u001b[0msCode\u001b[0m\u001b[0;34m,\u001b[0m \u001b[0msComp\u001b[0m\u001b[0;34m,\u001b[0m \u001b[0mr\u001b[0m\u001b[0;34m[\u001b[0m\u001b[0;36m0\u001b[0m\u001b[0;34m]\u001b[0m\u001b[0;34m,\u001b[0m \u001b[0mr\u001b[0m\u001b[0;34m[\u001b[0m\u001b[0;36m1\u001b[0m\u001b[0;34m]\u001b[0m\u001b[0;34m,\u001b[0m \u001b[0mr\u001b[0m\u001b[0;34m[\u001b[0m\u001b[0;36m2\u001b[0m\u001b[0;34m]\u001b[0m\u001b[0;34m,\u001b[0m \u001b[0mr\u001b[0m\u001b[0;34m[\u001b[0m\u001b[0;36m3\u001b[0m\u001b[0;34m]\u001b[0m\u001b[0;34m,\u001b[0m \u001b[0mr\u001b[0m\u001b[0;34m[\u001b[0m\u001b[0;36m4\u001b[0m\u001b[0;34m]\u001b[0m\u001b[0;34m,\u001b[0m \u001b[0mr\u001b[0m\u001b[0;34m[\u001b[0m\u001b[0;36m5\u001b[0m\u001b[0;34m]\u001b[0m\u001b[0;34m]\u001b[0m\u001b[0;34m\u001b[0m\u001b[0;34m\u001b[0m\u001b[0m\n\u001b[1;32m     15\u001b[0m     \u001b[0;31m# 데이터 입력하기\u001b[0m\u001b[0;34m\u001b[0m\u001b[0;34m\u001b[0m\u001b[0;34m\u001b[0m\u001b[0m\n\u001b[0;32m---> 16\u001b[0;31m     \u001b[0mpreData\u001b[0m \u001b[0;34m=\u001b[0m \u001b[0mselData\u001b[0m\u001b[0;34m(\u001b[0m\u001b[0;34m' where SIDX ='\u001b[0m\u001b[0;34m+\u001b[0m\u001b[0msidx\u001b[0m\u001b[0;34m)\u001b[0m\u001b[0;34m\u001b[0m\u001b[0;34m\u001b[0m\u001b[0m\n\u001b[0m\u001b[1;32m     17\u001b[0m     \u001b[0;32mif\u001b[0m\u001b[0;34m(\u001b[0m\u001b[0mpreData\u001b[0m\u001b[0;34m)\u001b[0m\u001b[0;34m:\u001b[0m\u001b[0;34m\u001b[0m\u001b[0;34m\u001b[0m\u001b[0m\n\u001b[1;32m     18\u001b[0m       \u001b[0mprint\u001b[0m\u001b[0;34m(\u001b[0m\u001b[0;34m\"중복데이터 입니다.\"\u001b[0m\u001b[0;34m,\u001b[0m \u001b[0mpreData\u001b[0m\u001b[0;34m)\u001b[0m\u001b[0;34m\u001b[0m\u001b[0;34m\u001b[0m\u001b[0m\n",
            "\u001b[0;32m<ipython-input-146-1523c0e34bb0>\u001b[0m in \u001b[0;36mselData\u001b[0;34m(whr)\u001b[0m\n\u001b[1;32m      4\u001b[0m     \u001b[0mcur\u001b[0m \u001b[0;34m=\u001b[0m \u001b[0mconn\u001b[0m\u001b[0;34m.\u001b[0m\u001b[0mcursor\u001b[0m\u001b[0;34m(\u001b[0m\u001b[0;34m)\u001b[0m\u001b[0;34m\u001b[0m\u001b[0;34m\u001b[0m\u001b[0m\n\u001b[1;32m      5\u001b[0m     \u001b[0msql\u001b[0m \u001b[0;34m=\u001b[0m \u001b[0;34m'select SIDX from StockDay '\u001b[0m \u001b[0;34m+\u001b[0m \u001b[0mwhr\u001b[0m\u001b[0;34m\u001b[0m\u001b[0;34m\u001b[0m\u001b[0m\n\u001b[0;32m----> 6\u001b[0;31m     \u001b[0mresult\u001b[0m \u001b[0;34m=\u001b[0m \u001b[0mcur\u001b[0m\u001b[0;34m.\u001b[0m\u001b[0mexecute\u001b[0m\u001b[0;34m(\u001b[0m\u001b[0msql\u001b[0m\u001b[0;34m)\u001b[0m\u001b[0;34m\u001b[0m\u001b[0;34m\u001b[0m\u001b[0m\n\u001b[0m\u001b[1;32m      7\u001b[0m     \u001b[0mrows\u001b[0m \u001b[0;34m=\u001b[0m \u001b[0mcur\u001b[0m\u001b[0;34m.\u001b[0m\u001b[0mfetchall\u001b[0m\u001b[0;34m(\u001b[0m\u001b[0;34m)\u001b[0m\u001b[0;34m\u001b[0m\u001b[0;34m\u001b[0m\u001b[0m\n\u001b[1;32m      8\u001b[0m     \u001b[0mcur\u001b[0m\u001b[0;34m.\u001b[0m\u001b[0mclose\u001b[0m\u001b[0;34m(\u001b[0m\u001b[0;34m)\u001b[0m\u001b[0;34m\u001b[0m\u001b[0;34m\u001b[0m\u001b[0m\n",
            "\u001b[0;31mOperationalError\u001b[0m: near \".15069960\": syntax error"
          ]
        }
      ]
    },
    {
      "cell_type": "code",
      "metadata": {
        "id": "iS9UUF2PaHZ5",
        "colab_type": "code",
        "colab": {
          "base_uri": "https://localhost:8080/",
          "height": 34
        },
        "outputId": "d78f692d-01e8-4bdb-b273-670d3bc97833"
      },
      "source": [
        "selData()"
      ],
      "execution_count": 144,
      "outputs": [
        {
          "output_type": "execute_result",
          "data": {
            "text/plain": [
              "[]"
            ]
          },
          "metadata": {
            "tags": []
          },
          "execution_count": 144
        }
      ]
    },
    {
      "cell_type": "markdown",
      "metadata": {
        "id": "OOu1Zf2_s744",
        "colab_type": "text"
      },
      "source": [
        "# 웹이 어떻게 구성되었는지 확인!! (아래)"
      ]
    },
    {
      "cell_type": "markdown",
      "metadata": {
        "id": "ySSClmgksxYr",
        "colab_type": "text"
      },
      "source": [
        "<!-- index.html로 저장 -->\n",
        "<!-- hyper text markup language  : html의 기능은 text를 블록화하는 것임 -->\n",
        "<!-- 주석   시작태그 ~ 끝태그 document 블럭 형태로 구성되어 있음 like <html -->\n",
        "<!-- html은 보통 머릿말, 본문, 꼬릿말로 구성 -->\n",
        "\n",
        "\n",
        "<!doctype html>\n",
        "<html>\n",
        "    <head>\n",
        "    <!-- css는 design 만들수 있도록 해줌 -->\n",
        "    <style>\n",
        "        /* css주석, 태그선택자(아래 customize하는 코드 */\n",
        "    div{border: 1px solid grey;\n",
        "        margin: 5px; \n",
        "    }\n",
        "        /* 아이디 선택자 #(샵 사용), 특징: 아이디는 페이지내에 1개만 있음 */\n",
        "    #content{\n",
        "        background-color: yellow ;     \n",
        "    }\n",
        "        /* div안에서 일부만 명령지정하고 싶을 땐 class 사용 #사용 안함 */\n",
        "    div.bgcyan{\n",
        "        background-color: cyan;\n",
        "    }\n",
        "    </style>\n",
        "    </head>\n",
        "    <body> \n",
        "        <div id=\"wrap\">\n",
        "            <div id= \"header\", class='bgcyan'>\n",
        "            <h1>머릿말</h1>\n",
        "            </div>\n",
        "            <div id = \"content\">\n",
        "            본문\n",
        "            </div>\n",
        "            <div id = \"footer, class='bgcyan'\">\n",
        "            꼬릿말\n",
        "            </div>\n",
        "        </div>\n",
        "    </body>\n",
        "</html>"
      ]
    },
    {
      "cell_type": "code",
      "metadata": {
        "id": "mMS5dl2vs7Xl",
        "colab_type": "code",
        "colab": {}
      },
      "source": [
        ""
      ],
      "execution_count": null,
      "outputs": []
    },
    {
      "cell_type": "code",
      "metadata": {
        "id": "bUUSE1icdjt3",
        "colab_type": "code",
        "colab": {}
      },
      "source": [
        ""
      ],
      "execution_count": null,
      "outputs": []
    },
    {
      "cell_type": "code",
      "metadata": {
        "id": "EvjEwLT9djns",
        "colab_type": "code",
        "colab": {}
      },
      "source": [
        ""
      ],
      "execution_count": null,
      "outputs": []
    }
  ]
}