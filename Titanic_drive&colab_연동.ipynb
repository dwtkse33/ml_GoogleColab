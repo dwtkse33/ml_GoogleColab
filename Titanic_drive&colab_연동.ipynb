{
  "nbformat": 4,
  "nbformat_minor": 0,
  "metadata": {
    "colab": {
      "name": "Titanic-drive&colab 연동.ipynb",
      "provenance": [],
      "collapsed_sections": [],
      "toc_visible": true,
      "authorship_tag": "ABX9TyOHyviLeZOknainyAZzAjZu",
      "include_colab_link": true
    },
    "kernelspec": {
      "name": "python3",
      "display_name": "Python 3"
    }
  },
  "cells": [
    {
      "cell_type": "markdown",
      "metadata": {
        "id": "view-in-github",
        "colab_type": "text"
      },
      "source": [
        "<a href=\"https://colab.research.google.com/github/dwtkse33/ml_GoogleColab/blob/master/Titanic_drive%26colab_%EC%97%B0%EB%8F%99.ipynb\" target=\"_parent\"><img src=\"https://colab.research.google.com/assets/colab-badge.svg\" alt=\"Open In Colab\"/></a>"
      ]
    },
    {
      "cell_type": "markdown",
      "metadata": {
        "id": "QaS505awtMIe",
        "colab_type": "text"
      },
      "source": [
        "*   Copy of Chapter_4_4_classification_titanic_example.ipynb 파일 참고! \n",
        "*   https://chloevan.github.io/python/dacon/jeju2020/01_dataimport/#2-google-bigquery\n",
        "\n",
        "\n"
      ]
    },
    {
      "cell_type": "markdown",
      "metadata": {
        "id": "BEsd4GpGL5xx",
        "colab_type": "text"
      },
      "source": [
        "### (1) 사전 준비작업 "
      ]
    },
    {
      "cell_type": "code",
      "metadata": {
        "id": "cL9jo15W07V_",
        "colab_type": "code",
        "colab": {}
      },
      "source": [
        "#구글 드라이브 + 코랩 연동 작업 "
      ],
      "execution_count": null,
      "outputs": []
    },
    {
      "cell_type": "code",
      "metadata": {
        "id": "oXgPEfEin6DQ",
        "colab_type": "code",
        "colab": {
          "base_uri": "https://localhost:8080/",
          "height": 125
        },
        "outputId": "a98fb4f9-bed2-4bae-a6ca-4fafbb94691a"
      },
      "source": [
        "from google.colab import drive # import drive from google colab\n",
        "ROOT = '/content/drive' #default location from the drive\n",
        "drive.mount(ROOT) #print content of ROOT(Optional)\n",
        "\n",
        "#작업 환경은 구글 코랩 --> 데이터는 구글 드라이브에 있기 때문에 연동해야함. "
      ],
      "execution_count": null,
      "outputs": [
        {
          "output_type": "stream",
          "text": [
            "Go to this URL in a browser: https://accounts.google.com/o/oauth2/auth?client_id=947318989803-6bn6qk8qdgf4n4g3pfee6491hc0brc4i.apps.googleusercontent.com&redirect_uri=urn%3aietf%3awg%3aoauth%3a2.0%3aoob&scope=email%20https%3a%2f%2fwww.googleapis.com%2fauth%2fdocs.test%20https%3a%2f%2fwww.googleapis.com%2fauth%2fdrive%20https%3a%2f%2fwww.googleapis.com%2fauth%2fdrive.photos.readonly%20https%3a%2f%2fwww.googleapis.com%2fauth%2fpeopleapi.readonly&response_type=code\n",
            "\n",
            "Enter your authorization code:\n",
            "··········\n",
            "Mounted at /content/drive\n"
          ],
          "name": "stdout"
        }
      ]
    },
    {
      "cell_type": "code",
      "metadata": {
        "id": "Ig1Ge3Uw1ReN",
        "colab_type": "code",
        "colab": {}
      },
      "source": [
        "#경로 확인 및 해당 폴더로 이동 "
      ],
      "execution_count": null,
      "outputs": []
    },
    {
      "cell_type": "code",
      "metadata": {
        "id": "PrkWFRiE07Y1",
        "colab_type": "code",
        "colab": {
          "base_uri": "https://localhost:8080/",
          "height": 35
        },
        "outputId": "33f64d16-cf14-47a3-a75e-7b01d77b71c0"
      },
      "source": [
        "%pwd"
      ],
      "execution_count": null,
      "outputs": [
        {
          "output_type": "execute_result",
          "data": {
            "application/vnd.google.colaboratory.intrinsic+json": {
              "type": "string"
            },
            "text/plain": [
              "'/content'"
            ]
          },
          "metadata": {
            "tags": []
          },
          "execution_count": 2
        }
      ]
    },
    {
      "cell_type": "code",
      "metadata": {
        "id": "4aT8j-S407cF",
        "colab_type": "code",
        "colab": {
          "base_uri": "https://localhost:8080/",
          "height": 34
        },
        "outputId": "fd3f08b5-09ba-42d4-f08f-ac9300d21ee3"
      },
      "source": [
        "%ls"
      ],
      "execution_count": null,
      "outputs": [
        {
          "output_type": "stream",
          "text": [
            "\u001b[0m\u001b[01;34mdrive\u001b[0m/  \u001b[01;34msample_data\u001b[0m/\n"
          ],
          "name": "stdout"
        }
      ]
    },
    {
      "cell_type": "code",
      "metadata": {
        "id": "H4CciU6L1m1O",
        "colab_type": "code",
        "colab": {}
      },
      "source": [
        "#경로 이동 (cd)"
      ],
      "execution_count": null,
      "outputs": []
    },
    {
      "cell_type": "code",
      "metadata": {
        "id": "yv0HNFng07e9",
        "colab_type": "code",
        "colab": {
          "base_uri": "https://localhost:8080/",
          "height": 34
        },
        "outputId": "7ec2fc27-de07-4899-ac01-60d52edc95fd"
      },
      "source": [
        "%cd drive/'My Drive'/'Colab Notebooks/ml_project'"
      ],
      "execution_count": null,
      "outputs": [
        {
          "output_type": "stream",
          "text": [
            "/content/drive/My Drive/Colab Notebooks/ml_project\n"
          ],
          "name": "stdout"
        }
      ]
    },
    {
      "cell_type": "code",
      "metadata": {
        "id": "-jTJWCR01Rbe",
        "colab_type": "code",
        "colab": {
          "base_uri": "https://localhost:8080/",
          "height": 34
        },
        "outputId": "29ba0334-ba23-48e9-cdca-16691eab7c6b"
      },
      "source": [
        "%ls"
      ],
      "execution_count": null,
      "outputs": [
        {
          "output_type": "stream",
          "text": [
            "gender_submission.csv  test.csv  train.csv\n"
          ],
          "name": "stdout"
        }
      ]
    },
    {
      "cell_type": "code",
      "metadata": {
        "id": "kUzxZc601RhF",
        "colab_type": "code",
        "colab": {
          "base_uri": "https://localhost:8080/",
          "height": 34
        },
        "outputId": "c5b86ba6-e8c8-4e39-e3aa-03b8ad4a0b4f"
      },
      "source": [
        "import pandas as pd \n",
        "from pandas.io import gbq\n",
        "\n",
        "# import sample_submission file\n",
        "gender_submission = pd.read_csv(\"gender_submission.csv\")\n",
        "\n",
        "\n",
        "# Connect to Google Cloud API and upload DataFrame \n",
        "\n",
        "gender_submission.to_gbq(destination_table=\"titanicpractice.gender_submission\", project_id = \"ml-titanic-286903\", if_exists = \"replace\")"
      ],
      "execution_count": null,
      "outputs": [
        {
          "output_type": "stream",
          "text": [
            "1it [00:04,  4.37s/it]\n"
          ],
          "name": "stderr"
        }
      ]
    },
    {
      "cell_type": "code",
      "metadata": {
        "id": "BD6Q5NUHGjzX",
        "colab_type": "code",
        "colab": {
          "base_uri": "https://localhost:8080/",
          "height": 34
        },
        "outputId": "44b7da0b-638a-4fb1-f7e0-791473719374"
      },
      "source": [
        "import pandas as pd \n",
        "from pandas.io import gbq\n",
        "\n",
        "# import sample_submission file\n",
        "test = pd.read_csv(\"test.csv\")\n",
        "\n",
        "\n",
        "# Connect to Google Cloud API and upload DataFrame \n",
        "\n",
        "test.to_gbq(destination_table=\"titanicpractice.test\", project_id = \"ml-titanic-286903\", if_exists = \"replace\")\n",
        "\n",
        "#field명이 부적절해 error가 뜸: train = train.rename(columns_colnames_dict)"
      ],
      "execution_count": 14,
      "outputs": [
        {
          "output_type": "stream",
          "text": [
            "1it [00:03,  3.58s/it]\n"
          ],
          "name": "stderr"
        }
      ]
    },
    {
      "cell_type": "code",
      "metadata": {
        "id": "hqiEtNxh1Rjt",
        "colab_type": "code",
        "colab": {
          "base_uri": "https://localhost:8080/",
          "height": 34
        },
        "outputId": "0a0e9d83-46b9-493a-ea86-a40e3ea4381d"
      },
      "source": [
        "import pandas as pd \n",
        "from pandas.io import gbq\n",
        "\n",
        "# import sample_submission file\n",
        "train = pd.read_csv(\"train.csv\")\n",
        "\n",
        "\n",
        "# Connect to Google Cloud API and upload DataFrame \n",
        "\n",
        "train.to_gbq(destination_table=\"titanicpractice.train\", project_id = \"ml-titanic-286903\", if_exists = \"replace\")"
      ],
      "execution_count": 16,
      "outputs": [
        {
          "output_type": "stream",
          "text": [
            "1it [00:02,  2.57s/it]\n"
          ],
          "name": "stderr"
        }
      ]
    },
    {
      "cell_type": "code",
      "metadata": {
        "id": "spEXIY0i1RmP",
        "colab_type": "code",
        "colab": {}
      },
      "source": [
        ""
      ],
      "execution_count": null,
      "outputs": []
    },
    {
      "cell_type": "code",
      "metadata": {
        "id": "whe5P4fW1Rof",
        "colab_type": "code",
        "colab": {}
      },
      "source": [
        ""
      ],
      "execution_count": null,
      "outputs": []
    }
  ]
}