{
  "nbformat": 4,
  "nbformat_minor": 0,
  "metadata": {
    "colab": {
      "name": "네이버증권_웹크롤링2.ipynb",
      "provenance": [],
      "authorship_tag": "ABX9TyPz/xCHFOnA/RTe+CDB57Am",
      "include_colab_link": true
    },
    "kernelspec": {
      "name": "python3",
      "display_name": "Python 3"
    }
  },
  "cells": [
    {
      "cell_type": "markdown",
      "metadata": {
        "id": "view-in-github",
        "colab_type": "text"
      },
      "source": [
        "<a href=\"https://colab.research.google.com/github/dwtkse33/ml_GoogleColab/blob/master/%EB%84%A4%EC%9D%B4%EB%B2%84%EC%A6%9D%EA%B6%8C_%EC%9B%B9%ED%81%AC%EB%A1%A4%EB%A7%812.ipynb\" target=\"_parent\"><img src=\"https://colab.research.google.com/assets/colab-badge.svg\" alt=\"Open In Colab\"/></a>"
      ]
    },
    {
      "cell_type": "markdown",
      "metadata": {
        "id": "xgVy9JYl5zpx",
        "colab_type": "text"
      },
      "source": [
        "# 정의함수로 웹크롤링"
      ]
    },
    {
      "cell_type": "code",
      "metadata": {
        "id": "Vj8LYjO-1Jgp",
        "colab_type": "code",
        "colab": {}
      },
      "source": [
        "import pandas as pd \n",
        "import numpy as np \n",
        "import sqlite3\n",
        "import requests\n",
        "from bs4 import BeautifulSoup as bs"
      ],
      "execution_count": 1,
      "outputs": []
    },
    {
      "cell_type": "code",
      "metadata": {
        "id": "UMKdQ0uC1o2S",
        "colab_type": "code",
        "colab": {}
      },
      "source": [
        "url = 'https://finance.naver.com/item/sise_day.nhn?code=007070&page=1'\n",
        "src = requests.get(url)"
      ],
      "execution_count": 3,
      "outputs": []
    },
    {
      "cell_type": "code",
      "metadata": {
        "id": "EBNNY1h51o4_",
        "colab_type": "code",
        "colab": {}
      },
      "source": [
        "result = src.content.strip()\n",
        "html = bs(result, 'html.parser')\n",
        "tgts = html.select('table.type2 tr')\n",
        "# len(tgt)\n",
        "for tgt in tgts: \n",
        "  if(tgt.select('td .p10')):\n",
        "     sday = tgt.select('td .p10')[0].text.replace(\",\", \"\")\n",
        "     endp = tgt.select('td.num')[0].text.replace(\",\", \"\")\n",
        "     startp = tgt.select('td.num')[2].text.replace(\",\", \"\")\n",
        "     maxp = tgt.select('td.num')[3].text.replace(\",\", \"\")\n",
        "     minp = tgt.select('td.num')[4].text.replace(\",\", \"\")\n",
        "     vol = tgt.select('td.num')[5].text.replace(\",\", \"\")\n",
        "     print(sday, startp, maxp, minp, endp,  vol)\n",
        "#종가 --> 전일비 --> 시가 --> 고가 --> 거래량"
      ],
      "execution_count": 4,
      "outputs": []
    },
    {
      "cell_type": "code",
      "metadata": {
        "id": "6e_YISub1pEd",
        "colab_type": "code",
        "colab": {}
      },
      "source": [
        "def stockGet(url = ''):\n",
        "  src = requests.get(url)\n",
        "  result = src.content.strip()\n",
        "  html = bs(result, 'html.parser')\n",
        "  tgts = html.select('table.type2 tr')\n"
      ],
      "execution_count": 7,
      "outputs": []
    },
    {
      "cell_type": "code",
      "metadata": {
        "id": "1mbXFEEU8o0p",
        "colab_type": "code",
        "colab": {}
      },
      "source": [
        "  # Len(tgt)\n",
        "  res = []\n",
        "  # tgts가 10개씩 나옴, page 1에 해당 \n",
        "  \n",
        "  for tgt in tgts: \n",
        "     if(tgt.select('td .p10')): # 날짜 없는 줄은 제거 \n",
        "      sday = tgt.select('td .p10')[0].text.replace(\",\", \"\")\n",
        "      endp = tgt.select('td.num')[0].text.replace(\",\", \"\")\n",
        "      startp = tgt.select('td.num')[2].text.replace(\",\", \"\")\n",
        "      maxp = tgt.select('td.num')[3].text.replace(\",\", \"\")\n",
        "      minp = tgt.select('td.num')[4].text.replace(\",\", \"\")\n",
        "      vol = tgt.select('td.num')[5].text.replace(\",\", \"\")\n",
        "      res.append((sday, startp, maxp, minp, endp,  vol))\n",
        "  # 10개 반환 \n",
        "  return res"
      ],
      "execution_count": null,
      "outputs": []
    },
    {
      "cell_type": "code",
      "metadata": {
        "id": "SPGCIFkF1pHz",
        "colab_type": "code",
        "colab": {
          "base_uri": "https://localhost:8080/",
          "height": 169
        },
        "outputId": "b7a54177-adf2-4c23-836f-ca303b85b241"
      },
      "source": [
        "res_df = pd.DataFrame(data = res)"
      ],
      "execution_count": 10,
      "outputs": [
        {
          "output_type": "error",
          "ename": "NameError",
          "evalue": "ignored",
          "traceback": [
            "\u001b[0;31m---------------------------------------------------------------------------\u001b[0m",
            "\u001b[0;31mNameError\u001b[0m                                 Traceback (most recent call last)",
            "\u001b[0;32m<ipython-input-10-8cd06ccb6df1>\u001b[0m in \u001b[0;36m<module>\u001b[0;34m()\u001b[0m\n\u001b[0;32m----> 1\u001b[0;31m \u001b[0mres_df\u001b[0m \u001b[0;34m=\u001b[0m \u001b[0mpd\u001b[0m\u001b[0;34m.\u001b[0m\u001b[0mDataFrame\u001b[0m\u001b[0;34m(\u001b[0m\u001b[0mdata\u001b[0m \u001b[0;34m=\u001b[0m \u001b[0mres\u001b[0m\u001b[0;34m)\u001b[0m\u001b[0;34m\u001b[0m\u001b[0;34m\u001b[0m\u001b[0m\n\u001b[0m",
            "\u001b[0;31mNameError\u001b[0m: name 'res' is not defined"
          ]
        }
      ]
    },
    {
      "cell_type": "code",
      "metadata": {
        "id": "QrHAIzUt64MP",
        "colab_type": "code",
        "colab": {}
      },
      "source": [
        ""
      ],
      "execution_count": null,
      "outputs": []
    },
    {
      "cell_type": "code",
      "metadata": {
        "id": "6aYW_azK64Ph",
        "colab_type": "code",
        "colab": {}
      },
      "source": [
        ""
      ],
      "execution_count": null,
      "outputs": []
    },
    {
      "cell_type": "code",
      "metadata": {
        "id": "zugIoYj664SV",
        "colab_type": "code",
        "colab": {}
      },
      "source": [
        ""
      ],
      "execution_count": null,
      "outputs": []
    },
    {
      "cell_type": "code",
      "metadata": {
        "id": "KDDyxA5Y64U9",
        "colab_type": "code",
        "colab": {}
      },
      "source": [
        ""
      ],
      "execution_count": null,
      "outputs": []
    },
    {
      "cell_type": "code",
      "metadata": {
        "id": "_0nIB60g64Xh",
        "colab_type": "code",
        "colab": {}
      },
      "source": [
        ""
      ],
      "execution_count": null,
      "outputs": []
    },
    {
      "cell_type": "code",
      "metadata": {
        "id": "uBv37cyA64al",
        "colab_type": "code",
        "colab": {}
      },
      "source": [
        ""
      ],
      "execution_count": null,
      "outputs": []
    },
    {
      "cell_type": "code",
      "metadata": {
        "id": "279vAbfZ64dV",
        "colab_type": "code",
        "colab": {}
      },
      "source": [
        ""
      ],
      "execution_count": null,
      "outputs": []
    },
    {
      "cell_type": "code",
      "metadata": {
        "id": "Yel_vjNK64gG",
        "colab_type": "code",
        "colab": {}
      },
      "source": [
        ""
      ],
      "execution_count": null,
      "outputs": []
    },
    {
      "cell_type": "code",
      "metadata": {
        "id": "CrsIM1-j64jO",
        "colab_type": "code",
        "colab": {}
      },
      "source": [
        ""
      ],
      "execution_count": null,
      "outputs": []
    }
  ]
}