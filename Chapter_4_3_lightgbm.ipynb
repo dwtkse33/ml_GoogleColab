{
  "nbformat": 4,
  "nbformat_minor": 0,
  "metadata": {
    "colab": {
      "name": "Chapter_4_3_lightgbm.ipynb",
      "provenance": [],
      "collapsed_sections": [],
      "include_colab_link": true
    },
    "kernelspec": {
      "name": "python3",
      "display_name": "Python 3"
    }
  },
  "cells": [
    {
      "cell_type": "markdown",
      "metadata": {
        "id": "view-in-github",
        "colab_type": "text"
      },
      "source": [
        "<a href=\"https://colab.research.google.com/github/dwtkse33/ml_GoogleColab/blob/master/Chapter_4_3_lightgbm.ipynb\" target=\"_parent\"><img src=\"https://colab.research.google.com/assets/colab-badge.svg\" alt=\"Open In Colab\"/></a>"
      ]
    },
    {
      "cell_type": "markdown",
      "metadata": {
        "id": "Gc8a9DM17eRG",
        "colab_type": "text"
      },
      "source": [
        "---\n",
        "title: \"머신러닝 알고리즘 - LightGbm\"\n",
        "date: 2020-07-16T18:00:47+09:00\n",
        "tags:\n",
        "  - \"머신러닝\"\n",
        "  - \"Python\"\n",
        "  - \"Machine Learning\"\n",
        "categories:\n",
        "  - \"머신러닝\"\n",
        "  - \"Python\"\n",
        "  - \"Machine Learning\"\n",
        "menu: \n",
        "  kaggle:\n",
        "    name: 머신러닝 알고리즘 - LightGbm\n",
        "---\n"
      ]
    },
    {
      "cell_type": "markdown",
      "metadata": {
        "id": "Rd7OM2we7uKo",
        "colab_type": "text"
      },
      "source": [
        "## 개요\n",
        "- 주택가격을 예측하는 데 필요한 Kaggle 데이터를 불러와서 빅쿼리에 저장하는 실습 진행\n",
        "- 데이터를 불러와서 `LightGBM`를 활용하여 머신러닝을 만든다. "
      ]
    },
    {
      "cell_type": "markdown",
      "metadata": {
        "id": "qQD2mzjIbEpR",
        "colab_type": "text"
      },
      "source": [
        "## I. 사전 준비작업\n",
        "- `Kaggle API` 설치 및 연동해서 `GCP`에 데이터를 적재하는 것까지 진행한다. "
      ]
    },
    {
      "cell_type": "markdown",
      "metadata": {
        "id": "JOwrTEIFtHai",
        "colab_type": "text"
      },
      "source": [
        "### (1) Kaggle API 설치\n",
        "- 구글 코랩에서 `API`를 불러오려면 다음 소스코드를 실행한다. "
      ]
    },
    {
      "cell_type": "code",
      "metadata": {
        "id": "iE8dUgTntOva",
        "colab_type": "code",
        "colab": {
          "base_uri": "https://localhost:8080/",
          "height": 212
        },
        "outputId": "04dd0c1c-f5a7-4267-dbd9-5a05a538cfb9"
      },
      "source": [
        "!pip install kaggle"
      ],
      "execution_count": 3,
      "outputs": [
        {
          "output_type": "stream",
          "text": [
            "Requirement already satisfied: kaggle in /usr/local/lib/python3.6/dist-packages (1.5.6)\n",
            "Requirement already satisfied: six>=1.10 in /usr/local/lib/python3.6/dist-packages (from kaggle) (1.15.0)\n",
            "Requirement already satisfied: tqdm in /usr/local/lib/python3.6/dist-packages (from kaggle) (4.41.1)\n",
            "Requirement already satisfied: python-slugify in /usr/local/lib/python3.6/dist-packages (from kaggle) (4.0.1)\n",
            "Requirement already satisfied: urllib3<1.25,>=1.21.1 in /usr/local/lib/python3.6/dist-packages (from kaggle) (1.24.3)\n",
            "Requirement already satisfied: python-dateutil in /usr/local/lib/python3.6/dist-packages (from kaggle) (2.8.1)\n",
            "Requirement already satisfied: certifi in /usr/local/lib/python3.6/dist-packages (from kaggle) (2020.6.20)\n",
            "Requirement already satisfied: requests in /usr/local/lib/python3.6/dist-packages (from kaggle) (2.23.0)\n",
            "Requirement already satisfied: text-unidecode>=1.3 in /usr/local/lib/python3.6/dist-packages (from python-slugify->kaggle) (1.3)\n",
            "Requirement already satisfied: chardet<4,>=3.0.2 in /usr/local/lib/python3.6/dist-packages (from requests->kaggle) (3.0.4)\n",
            "Requirement already satisfied: idna<3,>=2.5 in /usr/local/lib/python3.6/dist-packages (from requests->kaggle) (2.10)\n"
          ],
          "name": "stdout"
        }
      ]
    },
    {
      "cell_type": "markdown",
      "metadata": {
        "id": "EZlgcW7TtRkI",
        "colab_type": "text"
      },
      "source": [
        "### (2) Kaggle Token 다운로드\n",
        "- Kaggle에서 API Token을 다운로드 받는다.\n",
        "- [Kaggle]-[My Account]-[API]-[Create New API Token]을 누르면 `kaggle.json` 파일이 다운로드 된다.\n",
        "- 이 파일을 바탕화면에 옮긴 뒤, 아래 코드를 실행 시킨다."
      ]
    },
    {
      "cell_type": "code",
      "metadata": {
        "id": "nJwcVUBltedG",
        "colab_type": "code",
        "colab": {
          "resources": {
            "http://localhost:8080/nbextensions/google.colab/files.js": {
              "data": "Ly8gQ29weXJpZ2h0IDIwMTcgR29vZ2xlIExMQwovLwovLyBMaWNlbnNlZCB1bmRlciB0aGUgQXBhY2hlIExpY2Vuc2UsIFZlcnNpb24gMi4wICh0aGUgIkxpY2Vuc2UiKTsKLy8geW91IG1heSBub3QgdXNlIHRoaXMgZmlsZSBleGNlcHQgaW4gY29tcGxpYW5jZSB3aXRoIHRoZSBMaWNlbnNlLgovLyBZb3UgbWF5IG9idGFpbiBhIGNvcHkgb2YgdGhlIExpY2Vuc2UgYXQKLy8KLy8gICAgICBodHRwOi8vd3d3LmFwYWNoZS5vcmcvbGljZW5zZXMvTElDRU5TRS0yLjAKLy8KLy8gVW5sZXNzIHJlcXVpcmVkIGJ5IGFwcGxpY2FibGUgbGF3IG9yIGFncmVlZCB0byBpbiB3cml0aW5nLCBzb2Z0d2FyZQovLyBkaXN0cmlidXRlZCB1bmRlciB0aGUgTGljZW5zZSBpcyBkaXN0cmlidXRlZCBvbiBhbiAiQVMgSVMiIEJBU0lTLAovLyBXSVRIT1VUIFdBUlJBTlRJRVMgT1IgQ09ORElUSU9OUyBPRiBBTlkgS0lORCwgZWl0aGVyIGV4cHJlc3Mgb3IgaW1wbGllZC4KLy8gU2VlIHRoZSBMaWNlbnNlIGZvciB0aGUgc3BlY2lmaWMgbGFuZ3VhZ2UgZ292ZXJuaW5nIHBlcm1pc3Npb25zIGFuZAovLyBsaW1pdGF0aW9ucyB1bmRlciB0aGUgTGljZW5zZS4KCi8qKgogKiBAZmlsZW92ZXJ2aWV3IEhlbHBlcnMgZm9yIGdvb2dsZS5jb2xhYiBQeXRob24gbW9kdWxlLgogKi8KKGZ1bmN0aW9uKHNjb3BlKSB7CmZ1bmN0aW9uIHNwYW4odGV4dCwgc3R5bGVBdHRyaWJ1dGVzID0ge30pIHsKICBjb25zdCBlbGVtZW50ID0gZG9jdW1lbnQuY3JlYXRlRWxlbWVudCgnc3BhbicpOwogIGVsZW1lbnQudGV4dENvbnRlbnQgPSB0ZXh0OwogIGZvciAoY29uc3Qga2V5IG9mIE9iamVjdC5rZXlzKHN0eWxlQXR0cmlidXRlcykpIHsKICAgIGVsZW1lbnQuc3R5bGVba2V5XSA9IHN0eWxlQXR0cmlidXRlc1trZXldOwogIH0KICByZXR1cm4gZWxlbWVudDsKfQoKLy8gTWF4IG51bWJlciBvZiBieXRlcyB3aGljaCB3aWxsIGJlIHVwbG9hZGVkIGF0IGEgdGltZS4KY29uc3QgTUFYX1BBWUxPQURfU0laRSA9IDEwMCAqIDEwMjQ7CgpmdW5jdGlvbiBfdXBsb2FkRmlsZXMoaW5wdXRJZCwgb3V0cHV0SWQpIHsKICBjb25zdCBzdGVwcyA9IHVwbG9hZEZpbGVzU3RlcChpbnB1dElkLCBvdXRwdXRJZCk7CiAgY29uc3Qgb3V0cHV0RWxlbWVudCA9IGRvY3VtZW50LmdldEVsZW1lbnRCeUlkKG91dHB1dElkKTsKICAvLyBDYWNoZSBzdGVwcyBvbiB0aGUgb3V0cHV0RWxlbWVudCB0byBtYWtlIGl0IGF2YWlsYWJsZSBmb3IgdGhlIG5leHQgY2FsbAogIC8vIHRvIHVwbG9hZEZpbGVzQ29udGludWUgZnJvbSBQeXRob24uCiAgb3V0cHV0RWxlbWVudC5zdGVwcyA9IHN0ZXBzOwoKICByZXR1cm4gX3VwbG9hZEZpbGVzQ29udGludWUob3V0cHV0SWQpOwp9CgovLyBUaGlzIGlzIHJvdWdobHkgYW4gYXN5bmMgZ2VuZXJhdG9yIChub3Qgc3VwcG9ydGVkIGluIHRoZSBicm93c2VyIHlldCksCi8vIHdoZXJlIHRoZXJlIGFyZSBtdWx0aXBsZSBhc3luY2hyb25vdXMgc3RlcHMgYW5kIHRoZSBQeXRob24gc2lkZSBpcyBnb2luZwovLyB0byBwb2xsIGZvciBjb21wbGV0aW9uIG9mIGVhY2ggc3RlcC4KLy8gVGhpcyB1c2VzIGEgUHJvbWlzZSB0byBibG9jayB0aGUgcHl0aG9uIHNpZGUgb24gY29tcGxldGlvbiBvZiBlYWNoIHN0ZXAsCi8vIHRoZW4gcGFzc2VzIHRoZSByZXN1bHQgb2YgdGhlIHByZXZpb3VzIHN0ZXAgYXMgdGhlIGlucHV0IHRvIHRoZSBuZXh0IHN0ZXAuCmZ1bmN0aW9uIF91cGxvYWRGaWxlc0NvbnRpbnVlKG91dHB1dElkKSB7CiAgY29uc3Qgb3V0cHV0RWxlbWVudCA9IGRvY3VtZW50LmdldEVsZW1lbnRCeUlkKG91dHB1dElkKTsKICBjb25zdCBzdGVwcyA9IG91dHB1dEVsZW1lbnQuc3RlcHM7CgogIGNvbnN0IG5leHQgPSBzdGVwcy5uZXh0KG91dHB1dEVsZW1lbnQubGFzdFByb21pc2VWYWx1ZSk7CiAgcmV0dXJuIFByb21pc2UucmVzb2x2ZShuZXh0LnZhbHVlLnByb21pc2UpLnRoZW4oKHZhbHVlKSA9PiB7CiAgICAvLyBDYWNoZSB0aGUgbGFzdCBwcm9taXNlIHZhbHVlIHRvIG1ha2UgaXQgYXZhaWxhYmxlIHRvIHRoZSBuZXh0CiAgICAvLyBzdGVwIG9mIHRoZSBnZW5lcmF0b3IuCiAgICBvdXRwdXRFbGVtZW50Lmxhc3RQcm9taXNlVmFsdWUgPSB2YWx1ZTsKICAgIHJldHVybiBuZXh0LnZhbHVlLnJlc3BvbnNlOwogIH0pOwp9CgovKioKICogR2VuZXJhdG9yIGZ1bmN0aW9uIHdoaWNoIGlzIGNhbGxlZCBiZXR3ZWVuIGVhY2ggYXN5bmMgc3RlcCBvZiB0aGUgdXBsb2FkCiAqIHByb2Nlc3MuCiAqIEBwYXJhbSB7c3RyaW5nfSBpbnB1dElkIEVsZW1lbnQgSUQgb2YgdGhlIGlucHV0IGZpbGUgcGlja2VyIGVsZW1lbnQuCiAqIEBwYXJhbSB7c3RyaW5nfSBvdXRwdXRJZCBFbGVtZW50IElEIG9mIHRoZSBvdXRwdXQgZGlzcGxheS4KICogQHJldHVybiB7IUl0ZXJhYmxlPCFPYmplY3Q+fSBJdGVyYWJsZSBvZiBuZXh0IHN0ZXBzLgogKi8KZnVuY3Rpb24qIHVwbG9hZEZpbGVzU3RlcChpbnB1dElkLCBvdXRwdXRJZCkgewogIGNvbnN0IGlucHV0RWxlbWVudCA9IGRvY3VtZW50LmdldEVsZW1lbnRCeUlkKGlucHV0SWQpOwogIGlucHV0RWxlbWVudC5kaXNhYmxlZCA9IGZhbHNlOwoKICBjb25zdCBvdXRwdXRFbGVtZW50ID0gZG9jdW1lbnQuZ2V0RWxlbWVudEJ5SWQob3V0cHV0SWQpOwogIG91dHB1dEVsZW1lbnQuaW5uZXJIVE1MID0gJyc7CgogIGNvbnN0IHBpY2tlZFByb21pc2UgPSBuZXcgUHJvbWlzZSgocmVzb2x2ZSkgPT4gewogICAgaW5wdXRFbGVtZW50LmFkZEV2ZW50TGlzdGVuZXIoJ2NoYW5nZScsIChlKSA9PiB7CiAgICAgIHJlc29sdmUoZS50YXJnZXQuZmlsZXMpOwogICAgfSk7CiAgfSk7CgogIGNvbnN0IGNhbmNlbCA9IGRvY3VtZW50LmNyZWF0ZUVsZW1lbnQoJ2J1dHRvbicpOwogIGlucHV0RWxlbWVudC5wYXJlbnRFbGVtZW50LmFwcGVuZENoaWxkKGNhbmNlbCk7CiAgY2FuY2VsLnRleHRDb250ZW50ID0gJ0NhbmNlbCB1cGxvYWQnOwogIGNvbnN0IGNhbmNlbFByb21pc2UgPSBuZXcgUHJvbWlzZSgocmVzb2x2ZSkgPT4gewogICAgY2FuY2VsLm9uY2xpY2sgPSAoKSA9PiB7CiAgICAgIHJlc29sdmUobnVsbCk7CiAgICB9OwogIH0pOwoKICAvLyBXYWl0IGZvciB0aGUgdXNlciB0byBwaWNrIHRoZSBmaWxlcy4KICBjb25zdCBmaWxlcyA9IHlpZWxkIHsKICAgIHByb21pc2U6IFByb21pc2UucmFjZShbcGlja2VkUHJvbWlzZSwgY2FuY2VsUHJvbWlzZV0pLAogICAgcmVzcG9uc2U6IHsKICAgICAgYWN0aW9uOiAnc3RhcnRpbmcnLAogICAgfQogIH07CgogIGNhbmNlbC5yZW1vdmUoKTsKCiAgLy8gRGlzYWJsZSB0aGUgaW5wdXQgZWxlbWVudCBzaW5jZSBmdXJ0aGVyIHBpY2tzIGFyZSBub3QgYWxsb3dlZC4KICBpbnB1dEVsZW1lbnQuZGlzYWJsZWQgPSB0cnVlOwoKICBpZiAoIWZpbGVzKSB7CiAgICByZXR1cm4gewogICAgICByZXNwb25zZTogewogICAgICAgIGFjdGlvbjogJ2NvbXBsZXRlJywKICAgICAgfQogICAgfTsKICB9CgogIGZvciAoY29uc3QgZmlsZSBvZiBmaWxlcykgewogICAgY29uc3QgbGkgPSBkb2N1bWVudC5jcmVhdGVFbGVtZW50KCdsaScpOwogICAgbGkuYXBwZW5kKHNwYW4oZmlsZS5uYW1lLCB7Zm9udFdlaWdodDogJ2JvbGQnfSkpOwogICAgbGkuYXBwZW5kKHNwYW4oCiAgICAgICAgYCgke2ZpbGUudHlwZSB8fCAnbi9hJ30pIC0gJHtmaWxlLnNpemV9IGJ5dGVzLCBgICsKICAgICAgICBgbGFzdCBtb2RpZmllZDogJHsKICAgICAgICAgICAgZmlsZS5sYXN0TW9kaWZpZWREYXRlID8gZmlsZS5sYXN0TW9kaWZpZWREYXRlLnRvTG9jYWxlRGF0ZVN0cmluZygpIDoKICAgICAgICAgICAgICAgICAgICAgICAgICAgICAgICAgICAgJ24vYSd9IC0gYCkpOwogICAgY29uc3QgcGVyY2VudCA9IHNwYW4oJzAlIGRvbmUnKTsKICAgIGxpLmFwcGVuZENoaWxkKHBlcmNlbnQpOwoKICAgIG91dHB1dEVsZW1lbnQuYXBwZW5kQ2hpbGQobGkpOwoKICAgIGNvbnN0IGZpbGVEYXRhUHJvbWlzZSA9IG5ldyBQcm9taXNlKChyZXNvbHZlKSA9PiB7CiAgICAgIGNvbnN0IHJlYWRlciA9IG5ldyBGaWxlUmVhZGVyKCk7CiAgICAgIHJlYWRlci5vbmxvYWQgPSAoZSkgPT4gewogICAgICAgIHJlc29sdmUoZS50YXJnZXQucmVzdWx0KTsKICAgICAgfTsKICAgICAgcmVhZGVyLnJlYWRBc0FycmF5QnVmZmVyKGZpbGUpOwogICAgfSk7CiAgICAvLyBXYWl0IGZvciB0aGUgZGF0YSB0byBiZSByZWFkeS4KICAgIGxldCBmaWxlRGF0YSA9IHlpZWxkIHsKICAgICAgcHJvbWlzZTogZmlsZURhdGFQcm9taXNlLAogICAgICByZXNwb25zZTogewogICAgICAgIGFjdGlvbjogJ2NvbnRpbnVlJywKICAgICAgfQogICAgfTsKCiAgICAvLyBVc2UgYSBjaHVua2VkIHNlbmRpbmcgdG8gYXZvaWQgbWVzc2FnZSBzaXplIGxpbWl0cy4gU2VlIGIvNjIxMTU2NjAuCiAgICBsZXQgcG9zaXRpb24gPSAwOwogICAgd2hpbGUgKHBvc2l0aW9uIDwgZmlsZURhdGEuYnl0ZUxlbmd0aCkgewogICAgICBjb25zdCBsZW5ndGggPSBNYXRoLm1pbihmaWxlRGF0YS5ieXRlTGVuZ3RoIC0gcG9zaXRpb24sIE1BWF9QQVlMT0FEX1NJWkUpOwogICAgICBjb25zdCBjaHVuayA9IG5ldyBVaW50OEFycmF5KGZpbGVEYXRhLCBwb3NpdGlvbiwgbGVuZ3RoKTsKICAgICAgcG9zaXRpb24gKz0gbGVuZ3RoOwoKICAgICAgY29uc3QgYmFzZTY0ID0gYnRvYShTdHJpbmcuZnJvbUNoYXJDb2RlLmFwcGx5KG51bGwsIGNodW5rKSk7CiAgICAgIHlpZWxkIHsKICAgICAgICByZXNwb25zZTogewogICAgICAgICAgYWN0aW9uOiAnYXBwZW5kJywKICAgICAgICAgIGZpbGU6IGZpbGUubmFtZSwKICAgICAgICAgIGRhdGE6IGJhc2U2NCwKICAgICAgICB9LAogICAgICB9OwogICAgICBwZXJjZW50LnRleHRDb250ZW50ID0KICAgICAgICAgIGAke01hdGgucm91bmQoKHBvc2l0aW9uIC8gZmlsZURhdGEuYnl0ZUxlbmd0aCkgKiAxMDApfSUgZG9uZWA7CiAgICB9CiAgfQoKICAvLyBBbGwgZG9uZS4KICB5aWVsZCB7CiAgICByZXNwb25zZTogewogICAgICBhY3Rpb246ICdjb21wbGV0ZScsCiAgICB9CiAgfTsKfQoKc2NvcGUuZ29vZ2xlID0gc2NvcGUuZ29vZ2xlIHx8IHt9OwpzY29wZS5nb29nbGUuY29sYWIgPSBzY29wZS5nb29nbGUuY29sYWIgfHwge307CnNjb3BlLmdvb2dsZS5jb2xhYi5fZmlsZXMgPSB7CiAgX3VwbG9hZEZpbGVzLAogIF91cGxvYWRGaWxlc0NvbnRpbnVlLAp9Owp9KShzZWxmKTsK",
              "ok": true,
              "headers": [
                [
                  "content-type",
                  "application/javascript"
                ]
              ],
              "status": 200,
              "status_text": ""
            }
          },
          "base_uri": "https://localhost:8080/",
          "height": 41
        },
        "outputId": "5924d072-e93f-4e15-b175-ec411226a808"
      },
      "source": [
        "from google.colab import files\n",
        "uploaded = files.upload()\n",
        "for fn in uploaded.keys():\n",
        "  print('uploaded file \"{name}\" with length {length} bytes'.format(\n",
        "      name=fn, length=len(uploaded[fn])))\n",
        "  \n",
        "# kaggle.json을 아래 폴더로 옮긴 뒤, file을 사용할 수 있도록 권한을 부여한다. \n",
        "!mkdir -p ~/.kaggle/ && mv kaggle.json ~/.kaggle/ && chmod 600 ~/.kaggle/kaggle.json"
      ],
      "execution_count": null,
      "outputs": [
        {
          "output_type": "display_data",
          "data": {
            "text/html": [
              "\n",
              "     <input type=\"file\" id=\"files-418134ed-8515-479e-a08d-539f693526b1\" name=\"files[]\" multiple disabled\n",
              "        style=\"border:none\" />\n",
              "     <output id=\"result-418134ed-8515-479e-a08d-539f693526b1\">\n",
              "      Upload widget is only available when the cell has been executed in the\n",
              "      current browser session. Please rerun this cell to enable.\n",
              "      </output>\n",
              "      <script src=\"/nbextensions/google.colab/files.js\"></script> "
            ],
            "text/plain": [
              "<IPython.core.display.HTML object>"
            ]
          },
          "metadata": {
            "tags": []
          }
        }
      ]
    },
    {
      "cell_type": "markdown",
      "metadata": {
        "id": "fmsriNFDt2IB",
        "colab_type": "text"
      },
      "source": [
        "- 실제 `kaggle.json` 파일이 업로드 되었다는 뜻이다. "
      ]
    },
    {
      "cell_type": "code",
      "metadata": {
        "id": "hby2WV6_tzTp",
        "colab_type": "code",
        "colab": {}
      },
      "source": [
        "ls -1ha ~/.kaggle/kaggle.json"
      ],
      "execution_count": null,
      "outputs": []
    },
    {
      "cell_type": "markdown",
      "metadata": {
        "id": "l_8ZpTERuAoI",
        "colab_type": "text"
      },
      "source": [
        "### (3) Kaggle 데이터 불러오기\n",
        "- `Kaggle` 대회 리스트를 불러온다. "
      ]
    },
    {
      "cell_type": "code",
      "metadata": {
        "id": "fCWOFWNsuKCL",
        "colab_type": "code",
        "colab": {}
      },
      "source": [
        "!kaggle competitions list"
      ],
      "execution_count": null,
      "outputs": []
    },
    {
      "cell_type": "markdown",
      "metadata": {
        "id": "1RdNEuatuNG5",
        "colab_type": "text"
      },
      "source": [
        "- 여기에서 참여하기 원하는 대회의 데이터셋을 불러오면 된다.\n",
        "- 이번 `basic`강의에서는 `house-prices-advanced-regression-techniques` 데이터를 활용한 데이터 가공과 시각화를 연습할 것이기 때문에 아래와 같이 코드를 실행하여 데이터를 불러온다."
      ]
    },
    {
      "cell_type": "code",
      "metadata": {
        "id": "YQHYYwfEuTj2",
        "colab_type": "code",
        "colab": {}
      },
      "source": [
        "!kaggle competitions download -c house-prices-advanced-regression-techniques"
      ],
      "execution_count": null,
      "outputs": []
    },
    {
      "cell_type": "markdown",
      "metadata": {
        "id": "Gf_eBF5Ouf_q",
        "colab_type": "text"
      },
      "source": [
        "- 실제 데이터가 잘 다운로드 받게 되었는지 확인한다."
      ]
    },
    {
      "cell_type": "code",
      "metadata": {
        "id": "JfYYsy3Gujo2",
        "colab_type": "code",
        "colab": {}
      },
      "source": [
        "!ls"
      ],
      "execution_count": null,
      "outputs": []
    },
    {
      "cell_type": "markdown",
      "metadata": {
        "id": "8NYCgyL-uYSI",
        "colab_type": "text"
      },
      "source": [
        "### (4) BigQuery에 데이터 적재\n",
        "- `sample_submission.csv`, `test.csv`, `train.csv` 데이터를 불러와서 빅쿼리에 적재를 한다. \n",
        "- 로컬에서 빅쿼리로 데이터를 Load하는 방법에는 여러가지가 있다.\n",
        "  + `Local`에서 직접 올리기 (단, 10MB 이하)\n",
        "  + `Google Stroage` 활용\n",
        "  + `Pandas` 활용\n",
        "- `Google Stroage`를 활용하려면 클라우드 수업으로 진행되기 때문에, `Pandas`패키지를 활용한다.\n",
        "  + `to_gbq`라는 함수를 사용하는데, 이를 위해서는 보통 `pandas-gbq package`패키지를 별도로 설치를 해야한다.\n",
        "  + 다행히도, 구글 `Colab`에서는 위 패키지는 별도로 설치할 필요가 없다."
      ]
    },
    {
      "cell_type": "code",
      "metadata": {
        "id": "naBmJMD-vBAw",
        "colab_type": "code",
        "colab": {}
      },
      "source": [
        "import pandas as pd\n",
        "from pandas.io import gbq\n",
        "\n",
        "# import sample_submission file\n",
        "sample_submission = pd.read_csv('sample_submission.csv')\n",
        "\n",
        "# Connect to Google Cloud API and Upload DataFrame\n",
        "sample_submission.to_gbq(destination_table='house_price.sample_submission', \n",
        "                  project_id='ml-titanic-286903', \n",
        "\n",
        "                  if_exists='replace')"
      ],
      "execution_count": null,
      "outputs": []
    },
    {
      "cell_type": "code",
      "metadata": {
        "id": "khZG_lzrv8LJ",
        "colab_type": "code",
        "colab": {}
      },
      "source": [
        "import pandas as pd\n",
        "from pandas.io import gbq\n",
        "# import train file \n",
        "train = pd.read_csv('train.csv')"
      ],
      "execution_count": null,
      "outputs": []
    },
    {
      "cell_type": "markdown",
      "metadata": {
        "id": "k-2rD0EIYlfL",
        "colab_type": "text"
      },
      "source": [
        "- `column`명을 확인해본다. "
      ]
    },
    {
      "cell_type": "code",
      "metadata": {
        "id": "pgD-EYO9Ys_4",
        "colab_type": "code",
        "colab": {}
      },
      "source": [
        "print(train.columns)"
      ],
      "execution_count": null,
      "outputs": []
    },
    {
      "cell_type": "code",
      "metadata": {
        "id": "7uZEV7hyPJWm",
        "colab_type": "code",
        "colab": {}
      },
      "source": [
        "train.to_gbq(destination_table='house_price.train', \n",
        "                  project_id='ml-titanic-286903', \n",
        "                  if_exists='replace')"
      ],
      "execution_count": null,
      "outputs": []
    },
    {
      "cell_type": "markdown",
      "metadata": {
        "id": "r9KbZyAeZhBw",
        "colab_type": "text"
      },
      "source": [
        "- 빅쿼리에 데이터를 `Loading` 할 때는 첫번째 글짜가 숫자가 오면 안되기 때문에, column 명을 수정한다.\n",
        "  + 이 때, 각 숫자 앞에 `my`만 추가한다. "
      ]
    },
    {
      "cell_type": "code",
      "metadata": {
        "id": "-N7z5xGhZwtA",
        "colab_type": "code",
        "colab": {}
      },
      "source": [
        "colnames_dict = {\"1stFlrSF\": \"my1stFlrSF\", \"2ndFlrSF\": \"my2ndFlrSF\", \"3SsnPorch\": \"my3SsnPorch\"}"
      ],
      "execution_count": null,
      "outputs": []
    },
    {
      "cell_type": "code",
      "metadata": {
        "id": "leChaToswiHy",
        "colab_type": "code",
        "colab": {}
      },
      "source": [
        "# Connect to Google Cloud API and Upload DataFrame\n",
        "train = train.rename(columns=colnames_dict)\n",
        "train.to_gbq(destination_table='house_price.train', \n",
        "                  project_id='ml-titanic-286903', \n",
        "                  if_exists='replace')"
      ],
      "execution_count": null,
      "outputs": []
    },
    {
      "cell_type": "code",
      "metadata": {
        "id": "8dqdnCXzavxu",
        "colab_type": "code",
        "colab": {}
      },
      "source": [
        "# Connect to Google Cloud API and Upload DataFrame\n",
        "test = pd.read_csv('test.csv')\n",
        "test = test.rename(columns=colnames_dict)\n",
        "test.to_gbq(destination_table='house_price.test', \n",
        "            project_id='ml-titanic-286903', \n",
        "            if_exists='replace')"
      ],
      "execution_count": null,
      "outputs": []
    },
    {
      "cell_type": "markdown",
      "metadata": {
        "id": "ZhHQx1GSb4xL",
        "colab_type": "text"
      },
      "source": [
        "- 실제 데이터가 들어갔는지 빅쿼리에서 확인한다. "
      ]
    },
    {
      "cell_type": "markdown",
      "metadata": {
        "id": "hHkwLYyccKhf",
        "colab_type": "text"
      },
      "source": [
        "## II. 데이터 피처공학\n",
        "- 사이킷런 패키지는 기본적으로 결측치를 허용하지 않기 때문에, 반드시 확인 후, 처리해야 한다. \n",
        "- 이번에는 `BigQuery`를 통해 데이터를 불러온다. \n",
        "- 주요 데이터 추출을 위한 피처공학에 대해 배워본다. "
      ]
    },
    {
      "cell_type": "markdown",
      "metadata": {
        "id": "nYbpttSDywxm",
        "colab_type": "text"
      },
      "source": [
        "### (1) 주요 패키지 불러오기\n",
        "- 이제 주요 패키지를 불러온다."
      ]
    },
    {
      "cell_type": "code",
      "metadata": {
        "id": "Te4kW7LOy0N0",
        "colab_type": "code",
        "colab": {}
      },
      "source": [
        "import math\n",
        "import numpy as np\n",
        "import pandas as pd\n",
        "import matplotlib.pyplot as plt\n",
        "%matplotlib inline\n",
        "import seaborn as sns\n",
        "from scipy.stats import norm\n",
        "import lightgbm as lgb\n",
        "from sklearn.model_selection import train_test_split\n",
        "from sklearn.metrics import mean_squared_log_error\n",
        "from sklearn import preprocessing\n",
        "from sklearn.preprocessing import StandardScaler\n",
        "from sklearn.model_selection import cross_val_score, cross_val_predict"
      ],
      "execution_count": null,
      "outputs": []
    },
    {
      "cell_type": "markdown",
      "metadata": {
        "id": "6P-l7H_VwlCk",
        "colab_type": "text"
      },
      "source": [
        "### (2) 데이터 불러오기"
      ]
    },
    {
      "cell_type": "code",
      "metadata": {
        "id": "wNsu0US-cRWu",
        "colab_type": "code",
        "colab": {}
      },
      "source": [
        "from google.colab import auth\n",
        "auth.authenticate_user()\n",
        "print('Authenticated')"
      ],
      "execution_count": null,
      "outputs": []
    },
    {
      "cell_type": "code",
      "metadata": {
        "id": "5sq3vhRFWiLQ",
        "colab_type": "code",
        "colab": {}
      },
      "source": [
        "# 구글 인증 라이브러리\n",
        "from google.colab import auth\n",
        "\n",
        "# 빅쿼리 관련 라이브러리\n",
        "from google.cloud import bigquery\n",
        "from tabulate import tabulate\n",
        "import pandas as pd"
      ],
      "execution_count": null,
      "outputs": []
    },
    {
      "cell_type": "markdown",
      "metadata": {
        "id": "NEXVzyZ2c8wZ",
        "colab_type": "text"
      },
      "source": [
        "- 먼저 훈련 데이터를 불러온다."
      ]
    },
    {
      "cell_type": "code",
      "metadata": {
        "id": "ZeRSdOEFc-Sg",
        "colab_type": "code",
        "colab": {}
      },
      "source": [
        "from google.cloud import bigquery\n",
        "from tabulate import tabulate\n",
        "import pandas as pd\n",
        "\n",
        "project_id = 'ml-titanic-286903'\n",
        "client = bigquery.Client(project=project_id)\n",
        "\n",
        "df_train = client.query('''\n",
        "  SELECT \n",
        "      * \n",
        "  FROM `bigquerytutorial-274406.house_price.train`\n",
        "  ''').to_dataframe()\n",
        "\n",
        "df_train.shape"
      ],
      "execution_count": null,
      "outputs": []
    },
    {
      "cell_type": "markdown",
      "metadata": {
        "id": "BBE3-N06dbyD",
        "colab_type": "text"
      },
      "source": [
        "- 그 다음은 테스트 데이터를 불러온다. "
      ]
    },
    {
      "cell_type": "code",
      "metadata": {
        "id": "_aBta7N6jJZ8",
        "colab_type": "code",
        "colab": {}
      },
      "source": [
        "df_test = client.query('''\n",
        "  SELECT \n",
        "      * \n",
        "  FROM `bigquerytutorial-274406.house_price.test`\n",
        "  ''').to_dataframe()\n",
        "\n",
        "df_test.shape"
      ],
      "execution_count": null,
      "outputs": []
    },
    {
      "cell_type": "markdown",
      "metadata": {
        "id": "ZoXtWdq5xx1u",
        "colab_type": "text"
      },
      "source": [
        "- 아래 코드는 출력 시, 전체 `Column`에 대해 확인할 수 있음"
      ]
    },
    {
      "cell_type": "code",
      "metadata": {
        "id": "hAPmi_gxdhKZ",
        "colab_type": "code",
        "colab": {}
      },
      "source": [
        "pd.options.display.max_columns = None \n",
        "df_train.describe()"
      ],
      "execution_count": null,
      "outputs": []
    },
    {
      "cell_type": "markdown",
      "metadata": {
        "id": "chAeurKVwn2W",
        "colab_type": "text"
      },
      "source": [
        "### (3) 결측 데이터 확인"
      ]
    },
    {
      "cell_type": "code",
      "metadata": {
        "id": "kRCA5FTcd_xP",
        "colab_type": "code",
        "colab": {}
      },
      "source": [
        "# data set의 Percent 구하는 함수를 짜보자. \n",
        "def check_fill_na(data):\n",
        "  new_df = data.copy()\n",
        "  new_df_na = (new_df.isnull().sum() / len(new_df)) * 100\n",
        "  new_df_na.sort_values(ascending=False).reset_index(drop=True)\n",
        "  new_df_na = new_df_na.drop(new_df_na[new_df_na == 0].index).sort_values(ascending=False)\n",
        "  return new_df_na\n",
        "\n",
        "check_fill_na(df_train)"
      ],
      "execution_count": null,
      "outputs": []
    },
    {
      "cell_type": "markdown",
      "metadata": {
        "id": "eFEZ2-twwAV9",
        "colab_type": "text"
      },
      "source": [
        "### (4) 주요 함수 정의\n",
        "- 수치형과 범주형 데이터 결측치의 보간에 관한 함수를 정의한다. \n"
      ]
    },
    {
      "cell_type": "code",
      "metadata": {
        "id": "6yjS3lP3yG0L",
        "colab_type": "code",
        "colab": {}
      },
      "source": [
        "def fill_missing(df, cols, val):\n",
        "    \"\"\" val 입력값을 넣는다. \"\"\"\n",
        "    for col in cols:\n",
        "        df[col] = df[col].fillna(val)\n",
        "\n",
        "def fill_missing_with_mode(df, cols):\n",
        "    \"\"\" 최대 빈도수를 넣는다. \"\"\"\n",
        "    for col in cols:\n",
        "        df[col] = df[col].fillna(df[col].mode()[0])\n",
        "        \n",
        "def addlogs(res, cols):\n",
        "    \"\"\" 로그 변환 \"\"\"\n",
        "    m = res.shape[1]\n",
        "    for c in cols:\n",
        "        res = res.assign(newcol=pd.Series(np.log(1.01+res[c])).values)   \n",
        "        res.columns.values[m] = c + '_log'\n",
        "        m += 1\n",
        "    return res"
      ],
      "execution_count": null,
      "outputs": []
    },
    {
      "cell_type": "markdown",
      "metadata": {
        "id": "xqz43lTRyO64",
        "colab_type": "text"
      },
      "source": [
        "- 1층, 2층, 3층의 면적을 합친 `전체 total`을 구해본다."
      ]
    },
    {
      "cell_type": "markdown",
      "metadata": {
        "id": "0WPX-mdEzicJ",
        "colab_type": "text"
      },
      "source": [
        "### (5) 전체 면적 데이터 추가\n",
        "- 가정의 전체 면적을 더해서 추가 변수를 만든다."
      ]
    },
    {
      "cell_type": "code",
      "metadata": {
        "id": "QugrBrZ0yXS_",
        "colab_type": "code",
        "colab": {}
      },
      "source": [
        "df_train['TotalSF'] = df_train['TotalBsmtSF'] + df_train['my1stFlrSF'] + df_train['my2ndFlrSF']"
      ],
      "execution_count": null,
      "outputs": []
    },
    {
      "cell_type": "markdown",
      "metadata": {
        "id": "Vg2t9xKzyfwh",
        "colab_type": "text"
      },
      "source": [
        "- 전체 수치형 데이터에 `log transformation`을 해준다."
      ]
    },
    {
      "cell_type": "code",
      "metadata": {
        "id": "Gf2S6gMgylPA",
        "colab_type": "code",
        "colab": {}
      },
      "source": [
        "loglist = ['LotFrontage','LotArea','MasVnrArea','BsmtFinSF1','BsmtFinSF2','BsmtUnfSF',\n",
        "            'TotalBsmtSF','my1stFlrSF','my2ndFlrSF','LowQualFinSF','GrLivArea',\n",
        "            'BsmtFullBath','BsmtHalfBath','FullBath','HalfBath','BedroomAbvGr','KitchenAbvGr',\n",
        "            'TotRmsAbvGrd','Fireplaces','GarageCars','GarageArea','WoodDeckSF','OpenPorchSF',\n",
        "            'EnclosedPorch','my3SsnPorch','ScreenPorch','PoolArea','MiscVal','YearRemodAdd','TotalSF']\n",
        "\n",
        "df_train = addlogs(df_train, loglist)"
      ],
      "execution_count": null,
      "outputs": []
    },
    {
      "cell_type": "markdown",
      "metadata": {
        "id": "Ax9QA9_pzHyI",
        "colab_type": "text"
      },
      "source": [
        "### (6) 타겟변수 로그변환\n",
        "- 데이터가 작기 때문에, 모형의 안정성을 위해 로그변환을 해준다. "
      ]
    },
    {
      "cell_type": "code",
      "metadata": {
        "id": "zyOHPg3e0xrB",
        "colab_type": "code",
        "colab": {}
      },
      "source": [
        "df_train[\"SalePrice\"] = np.log1p(df_train[\"SalePrice\"])"
      ],
      "execution_count": null,
      "outputs": []
    },
    {
      "cell_type": "markdown",
      "metadata": {
        "id": "Suu9QMks1DEa",
        "colab_type": "text"
      },
      "source": [
        "### (7) 결측치 데이터 보간\n",
        "- 결측치 데이터를 보간한다. "
      ]
    },
    {
      "cell_type": "code",
      "metadata": {
        "id": "-e7fPowI1H5S",
        "colab_type": "code",
        "colab": {}
      },
      "source": [
        "# 우선, 결측치가 있는 것 중, 범주형 데이터는 \"None\"으로 확인\n",
        "fill_missing(df_train, [\"PoolQC\", \"MiscFeature\", \"Alley\", \"Fence\", \"FireplaceQu\", \n",
        "                        \"GarageType\", \"GarageFinish\", \"GarageQual\", \"GarageCond\",\n",
        "                       'BsmtQual', 'BsmtCond', 'BsmtExposure', 'BsmtFinType1', 'BsmtFinType2',\n",
        "                       \"MasVnrType\", \"MSSubClass\"], \"None\") \n",
        "\n",
        "# 수치형 데이터는 0으로 보간\n",
        "fill_missing(df_train, [\"GarageYrBlt\", \"GarageArea\", \"GarageCars\",\n",
        "                       'BsmtFinSF1', 'BsmtFinSF2', 'BsmtUnfSF','TotalBsmtSF', 'BsmtFullBath', 'BsmtHalfBath',\n",
        "                       \"MasVnrArea\"], 0)\n",
        "# 그 중, 일부는 빈도수로 채워 넣는다.  \n",
        "fill_missing_with_mode(df_train, [\"MSZoning\", \"KitchenQual\", \"Exterior1st\", \"Exterior2nd\", \"SaleType\"])\n",
        "fill_missing(df_train, [\"Functional\"],\"Typ\")"
      ],
      "execution_count": null,
      "outputs": []
    },
    {
      "cell_type": "markdown",
      "metadata": {
        "id": "MsxXCEEN14c6",
        "colab_type": "text"
      },
      "source": [
        "### (8) 변수 삭제\n",
        "- 1개의 값만 존재하는 데이터는 삭제한다. "
      ]
    },
    {
      "cell_type": "code",
      "metadata": {
        "id": "yTyE1Ht515dc",
        "colab_type": "code",
        "colab": {}
      },
      "source": [
        "df_train.drop(['Utilities'], axis=1, inplace=True)"
      ],
      "execution_count": null,
      "outputs": []
    },
    {
      "cell_type": "markdown",
      "metadata": {
        "id": "A_G9-cBn2TZ-",
        "colab_type": "text"
      },
      "source": [
        "### (9) 이상치 제거\n",
        "- 적은 데이터에서 상위 또는 하위 이상치가 발생하는 것은 좋지 않다. 따라서, 해당 관측치는 제거한다. "
      ]
    },
    {
      "cell_type": "code",
      "metadata": {
        "id": "oRBfQz9z2Uit",
        "colab_type": "code",
        "colab": {}
      },
      "source": [
        "df_train.drop(df_train[(df_train['OverallQual']<5) & (df_train['SalePrice']>200000)].index, inplace=True)\n",
        "df_train.drop(df_train[(df_train['GrLivArea']>4000) & (df_train['SalePrice']<300000)].index, inplace=True)\n",
        "df_train.reset_index(drop=True, inplace=True)"
      ],
      "execution_count": null,
      "outputs": []
    },
    {
      "cell_type": "markdown",
      "metadata": {
        "id": "I7t4jFi82r1F",
        "colab_type": "text"
      },
      "source": [
        "### (10) 재범주화\n",
        "- 몇몇 수치형 데이터는 사실 범주형 데이터에 가깝다. \n",
        "- 따라서, 이를 문자형으로 바꾼다. "
      ]
    },
    {
      "cell_type": "code",
      "metadata": {
        "id": "vUNUvLI5204X",
        "colab_type": "code",
        "colab": {}
      },
      "source": [
        "df_train['MSSubClass'] = df_train['MSSubClass'].apply(str)\n",
        "df_train['YrSold'] = df_train['YrSold'].astype(str)\n",
        "df_train['MoSold'] = df_train['MoSold'].astype(str)"
      ],
      "execution_count": null,
      "outputs": []
    },
    {
      "cell_type": "markdown",
      "metadata": {
        "id": "U4gtDRPn3GGW",
        "colab_type": "text"
      },
      "source": [
        "### (11) 범주형 데이터 다루기\n",
        "- 이제 범주형 데이터를 원핫 인코딩으로 변환한다. \n",
        "- 원핫 인코딩으로 변환하는 이유는, 알고리즘은 수치형으로 되어 있기 때문에 그렇다. "
      ]
    },
    {
      "cell_type": "code",
      "metadata": {
        "id": "jm0ZY7ST3Mpr",
        "colab_type": "code",
        "colab": {}
      },
      "source": [
        "def fix_missing_cols(in_train, in_test):\n",
        "    missing_cols = set(in_train.columns) - set(in_test.columns)\n",
        "    # 테스트 데이터와 훈련 데이터의 컬럼을 동일하게 하는 코드는 작성한다. \n",
        "    for c in missing_cols:\n",
        "        in_test[c] = 0\n",
        "    # 순서를 동일하게 만든다. \n",
        "    in_test = in_test[in_train.columns]\n",
        "    return in_test\n",
        "\n",
        "def dummy_encode(in_df_train, in_df_test):\n",
        "    df_train = in_df_train\n",
        "    df_test = in_df_test\n",
        "    categorical_feats = [\n",
        "        f for f in df_train.columns if df_train[f].dtype == 'object'\n",
        "    ]\n",
        "    print(categorical_feats)\n",
        "    for f_ in categorical_feats:\n",
        "        prefix = f_\n",
        "        df_train = pd.concat([df_train, pd.get_dummies(df_train[f_], prefix=prefix)], axis=1).drop(f_, axis=1)\n",
        "        df_test = pd.concat([df_test, pd.get_dummies(df_test[f_], prefix=prefix)], axis=1).drop(f_, axis=1)\n",
        "        df_test = fix_missing_cols(df_train, df_test)\n",
        "    return df_train, df_test"
      ],
      "execution_count": null,
      "outputs": []
    },
    {
      "cell_type": "markdown",
      "metadata": {
        "id": "TE2X2Ew-3mpU",
        "colab_type": "text"
      },
      "source": [
        "- 훈련 데이터와 테스트 데이터의 크기가 다르면 예측 시, 에러가 발생한다. "
      ]
    },
    {
      "cell_type": "code",
      "metadata": {
        "id": "12yhQOs23ZLO",
        "colab_type": "code",
        "colab": {}
      },
      "source": [
        "df_train, df_test = dummy_encode(df_train, df_test)\n",
        "print(\"Shape train: %s, test: %s\" % (df_train.shape, df_test.shape))"
      ],
      "execution_count": null,
      "outputs": []
    },
    {
      "cell_type": "markdown",
      "metadata": {
        "id": "I_1smuec3Yfb",
        "colab_type": "text"
      },
      "source": [
        "## III. 머신러닝 모형 개발\n",
        "- 이제 `LightGBM`을 활용하여 머신러닝 모형을 개발한다. \n",
        "- 유투브 강의를 보도록 한다. \n",
        "\n"
      ]
    },
    {
      "cell_type": "code",
      "metadata": {
        "id": "EyApOg8Mowwx",
        "colab_type": "code",
        "colab": {}
      },
      "source": [
        "from IPython.display import HTML\n",
        "HTML('<iframe width=\"560\" height=\"315\" src=\"https://www.youtube.com/embed/OQHlmscvkRI\" frameborder=\"0\" allow=\"accelerometer; autoplay; encrypted-media; gyroscope; picture-in-picture\" allowfullscreen></iframe>')"
      ],
      "execution_count": null,
      "outputs": []
    },
    {
      "cell_type": "markdown",
      "metadata": {
        "id": "JQxKFjo-4BXV",
        "colab_type": "text"
      },
      "source": [
        "### (1) 종속변수 처리\n",
        "- 종속변수를 `y` 객체로 저장한다. "
      ]
    },
    {
      "cell_type": "code",
      "metadata": {
        "id": "x40-3b8z3-L_",
        "colab_type": "code",
        "colab": {}
      },
      "source": [
        "y = df_train[\"SalePrice\"]\n",
        "y.sample(3)"
      ],
      "execution_count": null,
      "outputs": []
    },
    {
      "cell_type": "markdown",
      "metadata": {
        "id": "8NO8iU3b4KqU",
        "colab_type": "text"
      },
      "source": [
        "- 훈련 및 테스트 데이터의 변수를 삭제한다. "
      ]
    },
    {
      "cell_type": "code",
      "metadata": {
        "id": "RmmmI6rI4GwD",
        "colab_type": "code",
        "colab": {}
      },
      "source": [
        "df_train.drop([\"SalePrice\"], axis=1, inplace=True)\n",
        "df_test.drop([\"SalePrice\"], axis=1, inplace=True)\n",
        "\n",
        "print(\"Shape train: %s, test: %s\" % (df_train.shape, df_test.shape))"
      ],
      "execution_count": null,
      "outputs": []
    },
    {
      "cell_type": "markdown",
      "metadata": {
        "id": "r96kwsn14yMy",
        "colab_type": "text"
      },
      "source": [
        "### (2) 데이터셋 분리\n",
        "- 데이터셋을 분리한다. "
      ]
    },
    {
      "cell_type": "code",
      "metadata": {
        "id": "l5egOzSE42Rw",
        "colab_type": "code",
        "colab": {}
      },
      "source": [
        "X_train, X_test, y_train, y_test = train_test_split( df_train, y, test_size=0.2, random_state=42)"
      ],
      "execution_count": null,
      "outputs": []
    },
    {
      "cell_type": "markdown",
      "metadata": {
        "id": "eDrBNdEr45RF",
        "colab_type": "text"
      },
      "source": [
        "### (3) LightGBM 파라미터 정의\n",
        "- `LightGBM` 파라미터 정의는 다음 메뉴얼을 읽고 적용한다.\n",
        "- [LightGBM 파라미터 메뉴얼](https://lightgbm.readthedocs.io/en/latest/Parameters.html)"
      ]
    },
    {
      "cell_type": "code",
      "metadata": {
        "id": "IUHbI1Ry46ek",
        "colab_type": "code",
        "colab": {}
      },
      "source": [
        "hyper_params = {\n",
        "    'task': 'train',\n",
        "    'boosting_type': 'gbdt',\n",
        "    'objective': 'regression',\n",
        "    'metric': ['l2', 'auc'],\n",
        "    'learning_rate': 0.005,\n",
        "    'feature_fraction': 0.9,\n",
        "    'bagging_fraction': 0.7,\n",
        "    'bagging_freq': 10,\n",
        "    'verbose': 0,\n",
        "    \"max_depth\": 8,\n",
        "    \"num_leaves\": 128,  \n",
        "    \"max_bin\": 512,\n",
        "    \"num_iterations\": 100000,\n",
        "    \"n_estimators\": 1000\n",
        "}"
      ],
      "execution_count": null,
      "outputs": []
    },
    {
      "cell_type": "markdown",
      "metadata": {
        "id": "ZbXO_V3G5xVO",
        "colab_type": "text"
      },
      "source": [
        "### (4) 모델 정의\n",
        "- 이제 모델을 정의한다. "
      ]
    },
    {
      "cell_type": "code",
      "metadata": {
        "id": "Xi1oxJa05vcJ",
        "colab_type": "code",
        "colab": {}
      },
      "source": [
        "gbm = lgb.LGBMRegressor(**hyper_params)"
      ],
      "execution_count": null,
      "outputs": []
    },
    {
      "cell_type": "markdown",
      "metadata": {
        "id": "im5Qc5eA558V",
        "colab_type": "text"
      },
      "source": [
        "### (5) 모델 학습\n",
        "- 이제 모델을 학습한다. "
      ]
    },
    {
      "cell_type": "code",
      "metadata": {
        "id": "Op4g7I1i58NN",
        "colab_type": "code",
        "colab": {}
      },
      "source": [
        "gbm.fit(X_train, y_train,\n",
        "        eval_set=[(X_test, y_test)],\n",
        "        eval_metric='l1',\n",
        "        early_stopping_rounds=1000)"
      ],
      "execution_count": null,
      "outputs": []
    },
    {
      "cell_type": "markdown",
      "metadata": {
        "id": "sOLF3ZCN6Ab8",
        "colab_type": "text"
      },
      "source": [
        "### (6) 모델 평가\n",
        "- 모델을 평가한다. (RMSE)"
      ]
    },
    {
      "cell_type": "code",
      "metadata": {
        "id": "FzJ03Gx96DP4",
        "colab_type": "code",
        "colab": {}
      },
      "source": [
        "y_pred = gbm.predict(X_train, num_iteration=gbm.best_iteration_)\n",
        "print('The rmse of prediction is:', round(mean_squared_log_error(y_pred, y_train) ** 0.5, 5))"
      ],
      "execution_count": null,
      "outputs": []
    },
    {
      "cell_type": "markdown",
      "metadata": {
        "id": "xN80HcPK6LWe",
        "colab_type": "text"
      },
      "source": [
        "### (7) 결과 제출\n",
        "- 이제 결과를 제출한다. "
      ]
    },
    {
      "cell_type": "code",
      "metadata": {
        "id": "Okw62fjJ6QJM",
        "colab_type": "code",
        "colab": {}
      },
      "source": [
        "test_pred = np.expm1(gbm.predict(df_test, num_iteration=gbm.best_iteration_))\n",
        "df_test[\"SalePrice\"] = test_pred\n",
        "df_test.to_csv(\"results.csv\", columns=[\"Id\", \"SalePrice\"], index=False)"
      ],
      "execution_count": null,
      "outputs": []
    }
  ]
}