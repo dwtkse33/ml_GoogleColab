{
  "nbformat": 4,
  "nbformat_minor": 0,
  "metadata": {
    "colab": {
      "name": "교차검증",
      "provenance": [],
      "authorship_tag": "ABX9TyO4Jh9wgr9gRVwtsWp/mrV6",
      "include_colab_link": true
    },
    "kernelspec": {
      "name": "python3",
      "display_name": "Python 3"
    }
  },
  "cells": [
    {
      "cell_type": "markdown",
      "metadata": {
        "id": "view-in-github",
        "colab_type": "text"
      },
      "source": [
        "<a href=\"https://colab.research.google.com/github/dwtkse33/ml_GoogleColab/blob/master/%EA%B5%90%EC%B0%A8%EA%B2%80%EC%A6%9D.ipynb\" target=\"_parent\"><img src=\"https://colab.research.google.com/assets/colab-badge.svg\" alt=\"Open In Colab\"/></a>"
      ]
    },
    {
      "cell_type": "markdown",
      "metadata": {
        "id": "tLfFZSAhpqAB",
        "colab_type": "text"
      },
      "source": [
        "# 교차 검증 \n",
        "\n",
        "*   교차 검증의 의미 \n",
        "* 실습 \n",
        "* 참고: https://yamalab.tistory.com/44\n",
        "\n"
      ]
    },
    {
      "cell_type": "markdown",
      "metadata": {
        "id": "J6L_ExZEpx3B",
        "colab_type": "text"
      },
      "source": [
        "###방법 1. 홀드아웃 \n",
        "* 데이터: 훈련데이터와 테스트데이터로 나누어 검증\n",
        " "
      ]
    },
    {
      "cell_type": "markdown",
      "metadata": {
        "id": "InLdiEKFqRGR",
        "colab_type": "text"
      },
      "source": [
        "###방법2. K폴드 교차검증 \n",
        "\n",
        "*   raw데이터를 다양한 카테로리로 분류\n",
        "* 데이터의 수가 적을 때 주로 사용 (Default 연산량 * K개 만큼) \n",
        "* + 훈련데이터 : 훈련데이터 + 검증데이터 --> 테스트데이터 \n",
        "\n"
      ]
    },
    {
      "cell_type": "markdown",
      "metadata": {
        "id": "okopTgJfwElR",
        "colab_type": "text"
      },
      "source": [
        "cross_val_score"
      ]
    },
    {
      "cell_type": "code",
      "metadata": {
        "id": "Ggjze78Cv_vj",
        "colab_type": "code",
        "colab": {}
      },
      "source": [
        "import numpy as np \n",
        "import matplotlib.pyplot as plt \n",
        "import pandas as pd\n",
        "from scipy import stats\n",
        "from sklearn.datasets import load_boston"
      ],
      "execution_count": 1,
      "outputs": []
    },
    {
      "cell_type": "markdown",
      "metadata": {
        "id": "IPprVG66w9oi",
        "colab_type": "text"
      },
      "source": [
        "### 데이터 탐색 \n",
        "* 시각화, 통계 검정 \n",
        "* 변수 정의 "
      ]
    },
    {
      "cell_type": "markdown",
      "metadata": {
        "id": "9yWCDqZ3xlkD",
        "colab_type": "text"
      },
      "source": [
        "Data Set Characteristics:\n",
        "\n",
        "Number of Instances\n",
        "506\n",
        "\n",
        "Number of Attributes\n",
        "13 numeric/categorical predictive. Median Value (attribute 14) is usually the target.\n",
        "\n",
        "Attribute Information (in order)\n",
        "CRIM per capita crime rate by town\n",
        "\n",
        "ZN proportion of residential land zoned for lots over 25,000 sq.ft.\n",
        "\n",
        "INDUS proportion of non-retail business acres per town\n",
        "\n",
        "CHAS Charles River dummy variable (= 1 if tract bounds river; 0 otherwise)\n",
        "\n",
        "NOX nitric oxides concentration (parts per 10 million)\n",
        "\n",
        "RM average number of rooms per dwelling\n",
        "\n",
        "AGE proportion of owner-occupied units built prior to 1940\n",
        "\n",
        "DIS weighted distances to five Boston employment centres\n",
        "\n",
        "RAD index of accessibility to radial highways\n",
        "\n",
        "TAX full-value property-tax rate per $10,000\n",
        "\n",
        "PTRATIO pupil-teacher ratio by town\n",
        "\n",
        "B 1000(Bk - 0.63)^2 where Bk is the proportion of blacks by town\n",
        "\n",
        "LSTAT % lower status of the population\n",
        "\n",
        "MEDV Median value of owner-occupied homes in $1000’s"
      ]
    },
    {
      "cell_type": "code",
      "metadata": {
        "id": "OSHtGknfwTMe",
        "colab_type": "code",
        "colab": {
          "base_uri": "https://localhost:8080/",
          "height": 34
        },
        "outputId": "56197cbd-98e4-4902-9b8f-94157e740cb1"
      },
      "source": [
        "%matplotlib inline\n",
        "boston = load_boston()\n",
        "\n",
        "#pandas dataframe, 독립변수\n",
        "bostonDF = pd.DataFrame(data=boston.data, columns=boston.feature_names)\n",
        "\n",
        "#종속변수 \n",
        "bostonDF[\"PRICE\"] = boston.target\n",
        "print(\"Size of dataset : \", bostonDF.shape)"
      ],
      "execution_count": 13,
      "outputs": [
        {
          "output_type": "stream",
          "text": [
            "Size of dataset :  (506, 14)\n"
          ],
          "name": "stdout"
        }
      ]
    },
    {
      "cell_type": "markdown",
      "metadata": {
        "id": "gLRCMkkPx0X3",
        "colab_type": "text"
      },
      "source": [
        "# 머신러닝 모형 만들기"
      ]
    },
    {
      "cell_type": "code",
      "metadata": {
        "id": "1u8x50aaxy_y",
        "colab_type": "code",
        "colab": {}
      },
      "source": [
        "from sklearn.model_selection import train_test_split\n",
        "from sklearn.linear_model import LinearRegression\n",
        "from sklearn.metrics import mean_squared_error, r2_score\n",
        "\n",
        "# 훈련데이터, 테스트 분리 \n",
        "y_target = bostonDF[\"PRICE\"]\n",
        "x_data = bostonDF.drop(['PRICE'],axis=1, inplace=False)\n",
        "\n",
        "x_train, x_test, y_train, y_test = train_test_split(x_data, y_target, test_size= 0.3, random_state= 1)\n",
        "\n",
        "# 모형을 만들기-선형회귀 \n",
        "ir_model = LinearRegression()\n",
        "ir_model.fit(x_train, y_train)\n",
        "\n",
        "#예측\n",
        "y_preds = ir_model.predict(x_test)"
      ],
      "execution_count": 15,
      "outputs": []
    },
    {
      "cell_type": "markdown",
      "metadata": {
        "id": "xS2z5Twkzco6",
        "colab_type": "text"
      },
      "source": [
        "mean_squared_error(MSE) : 실제값과 예측값의 차이를 제곱 후 평균 \n",
        "RMSE : 실제 오류 평균보다 더 커지는 특성이 있어서 루트 씌움 "
      ]
    },
    {
      "cell_type": "code",
      "metadata": {
        "id": "L4fRbIjUzdFo",
        "colab_type": "code",
        "colab": {
          "base_uri": "https://localhost:8080/",
          "height": 34
        },
        "outputId": "040019f3-4858-47c8-9082-a277acaa229e"
      },
      "source": [
        "mse = mean_squared_error(y_test, y_preds)\n",
        "print(mse)"
      ],
      "execution_count": 16,
      "outputs": [
        {
          "output_type": "stream",
          "text": [
            "19.831323672062922\n"
          ],
          "name": "stdout"
        }
      ]
    },
    {
      "cell_type": "code",
      "metadata": {
        "id": "RFDgYQZD0Bcf",
        "colab_type": "code",
        "colab": {
          "base_uri": "https://localhost:8080/",
          "height": 34
        },
        "outputId": "de46f60c-89d4-441b-a4aa-2cfa423cf4cc"
      },
      "source": [
        "rmse = np.sqrt(mse)\n",
        "print(mse)"
      ],
      "execution_count": 17,
      "outputs": [
        {
          "output_type": "stream",
          "text": [
            "19.831323672062922\n"
          ],
          "name": "stdout"
        }
      ]
    },
    {
      "cell_type": "markdown",
      "metadata": {
        "id": "6KOV0ve90Pvj",
        "colab_type": "text"
      },
      "source": [
        "### K 폴드 적용\n",
        "* cross_val_score() 함수 활용해서 RMSE \n",
        "  + 5 폴드값, 값이 "
      ]
    },
    {
      "cell_type": "code",
      "metadata": {
        "id": "QThYBVRs0Zg5",
        "colab_type": "code",
        "colab": {
          "base_uri": "https://localhost:8080/",
          "height": 34
        },
        "outputId": "4e2acb33-eb0b-4931-93b7-a7873eaadc68"
      },
      "source": [
        "from sklearn.model_selection import cross_val_score \n",
        "neg_mse_scores= cross_val_score(ir_model, x_data, y_target, scoring=\"neg_mean_squared_error\", cv= 5)\n",
        "print(neg_mse_scores)\n",
        "# mse를 음수값으로 출력해달라는 명령 "
      ],
      "execution_count": 19,
      "outputs": [
        {
          "output_type": "stream",
          "text": [
            "[-12.46030057 -26.04862111 -33.07413798 -80.76237112 -33.31360656]\n"
          ],
          "name": "stdout"
        }
      ]
    },
    {
      "cell_type": "code",
      "metadata": {
        "id": "yCbn2GMZ1AGn",
        "colab_type": "code",
        "colab": {
          "base_uri": "https://localhost:8080/",
          "height": 34
        },
        "outputId": "602d6a07-39b0-4e34-f730-b37c813818d1"
      },
      "source": [
        "rmse_scores = np.sqrt(-1 * neg_mse_scores)\n",
        "print(rmse_scores)"
      ],
      "execution_count": 20,
      "outputs": [
        {
          "output_type": "stream",
          "text": [
            "[3.52991509 5.10378498 5.75101191 8.9867887  5.77179405]\n"
          ],
          "name": "stdout"
        }
      ]
    },
    {
      "cell_type": "code",
      "metadata": {
        "id": "KVvFMxgp1WHi",
        "colab_type": "code",
        "colab": {
          "base_uri": "https://localhost:8080/",
          "height": 34
        },
        "outputId": "3585c612-cb87-412b-bc61-b4a9bcd10879"
      },
      "source": [
        "np.mean(rmse_scores)"
      ],
      "execution_count": 21,
      "outputs": [
        {
          "output_type": "execute_result",
          "data": {
            "text/plain": [
              "5.828658946215802"
            ]
          },
          "metadata": {
            "tags": []
          },
          "execution_count": 21
        }
      ]
    }
  ]
}